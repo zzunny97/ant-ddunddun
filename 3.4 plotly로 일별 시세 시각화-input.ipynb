{
 "cells": [
  {
   "cell_type": "markdown",
   "metadata": {},
   "source": [
    "[![Open In Colab](https://colab.research.google.com/assets/colab-badge.svg)](https://colab.research.google.com/github/corazzon/finance-data-analysis/blob/main/3.4%20plotly%EB%A1%9C%20%EC%9D%BC%EB%B3%84%20%EC%8B%9C%EC%84%B8%20%EC%8B%9C%EA%B0%81%ED%99%94-input.ipynb)\n",
    "\n",
    "## Plotly 는?\n",
    "* 파이썬의 대표적인 인터랙티브 시각화 도구\n",
    "* [Plotly Python Graphing Library | Python | Plotly](https://plotly.com/python/)\n",
    "* [Financial Charts | Python | Plotly](https://plotly.com/python/financial-charts/)\n",
    "* [Time Series and Date Axes | Python | Plotly](https://plotly.com/python/time-series/)\n",
    "* [OHLC Charts | Python | Plotly](https://plotly.com/python/ohlc-charts/)\n",
    "* [Python API reference for plotly — 4.14.3 documentation](https://plotly.com/python-api-reference/)\n",
    "\n",
    "###  Plotly Express: high-level interface for data visualization\n",
    "* https://plotly.com/python-api-reference/plotly.express.html\n",
    "* seaborn 과 비슷한 사용법\n",
    "* 사용법이 plotly.graph_objects 에 비해 비교적 간단한 편 \n",
    "\n",
    "#### 사용법\n",
    "\n",
    "* **scatter([data_frame, x, y, color, symbol, …])**\n",
    "* scatter_3d([data_frame, x, y, z, color, …])\n",
    "* scatter_polar([data_frame, r, theta, color, …])\n",
    "* scatter_ternary([data_frame, a, b, c, …])\n",
    "* scatter_mapbox([data_frame, lat, lon, …])\n",
    "* scatter_geo([data_frame, lat, lon, …])\n",
    "* **line([data_frame, x, y, line_group, color, …])**\n",
    "* line_3d([data_frame, x, y, z, color, …])\n",
    "* line_polar([data_frame, r, theta, color, …])\n",
    "* line_ternary([data_frame, a, b, c, color, …])\n",
    "* line_mapbox([data_frame, lat, lon, color, …])\n",
    "* line_geo([data_frame, lat, lon, locations, …])\n",
    "* **area([data_frame, x, y, line_group, color, …])**\n",
    "* **bar([data_frame, x, y, color, facet_row, …])**\n",
    "* timeline([data_frame, x_start, x_end, y, …])\n",
    "* bar_polar([data_frame, r, theta, color, …])\n",
    "* **violin([data_frame, x, y, color, facet_row, …])**\n",
    "* **box([data_frame, x, y, color, facet_row, …])**\n",
    "* **strip([data_frame, x, y, color, facet_row, …])**\n",
    "* **histogram([data_frame, x, y, color, …])**\n",
    "* **pie([data_frame, names, values, color, …])**\n",
    "* **treemap([data_frame, names, values, …])**\n",
    "* **sunburst([data_frame, names, values, …])**\n",
    "* funnel([data_frame, x, y, color, facet_row, …])\n",
    "* funnel_area([data_frame, names, values, …])\n",
    "* scatter_matrix([data_frame, dimensions, …])\n",
    "* parallel_coordinates([data_frame, …])\n",
    "* parallel_categories([data_frame, …])\n",
    "* choropleth([data_frame, lat, lon, …])\n",
    "* choropleth_mapbox([data_frame, geojson, …])\n",
    "* density_contour([data_frame, x, y, z, …])\n",
    "* density_heatmap([data_frame, x, y, z, …])\n",
    "* density_mapbox([data_frame, lat, lon, z, …])\n",
    "* imshow(img[, zmin, zmax, origin, labels, x, …])\n",
    "\n",
    "### Graph Objects: low-level interface to figures, traces and layout\n",
    "* https://plotly.com/python-api-reference/plotly.graph_objects.html\n",
    "* 다양한 시각화\n",
    "\n",
    "#### Figure\n",
    "Figure([data, layout, frames, skip_invalid])\n",
    "\n",
    "#### Layout\n",
    "Layout([arg, activeshape, angularaxis, …])\n",
    "\n",
    "#### Simple Traces\n",
    "* Scatter([arg, cliponaxis, connectgaps, …])\n",
    "* Scattergl([arg, connectgaps, customdata, …])\n",
    "* Bar([arg, alignmentgroup, base, basesrc, …])\n",
    "* Pie([arg, automargin, customdata, …])\n",
    "* Heatmap([arg, autocolorscale, coloraxis, …])\n",
    "* Heatmapgl([arg, autocolorscale, coloraxis, …])\n",
    "* Image([arg, colormodel, customdata, …])\n",
    "* Contour([arg, autocolorscale, autocontour, …])\n",
    "* Table([arg, cells, columnorder, …])\n",
    "\n",
    "#### Distribution Traces\n",
    "* Box([arg, alignmentgroup, boxmean, …])\n",
    "* Violin([arg, alignmentgroup, bandwidth, …])\n",
    "* Histogram([arg, alignmentgroup, autobinx, …])\n",
    "* Histogram2d([arg, autobinx, autobiny, …])\n",
    "* Histogram2dContour([arg, autobinx, …])\n",
    "\n",
    "#### Finance Traces\n",
    "* Ohlc([arg, close, closesrc, customdata, …])\n",
    "* Candlestick([arg, close, closesrc, …])\n",
    "* Waterfall([arg, alignmentgroup, base, …])\n",
    "* Funnel([arg, alignmentgroup, cliponaxis, …])\n",
    "* Funnelarea([arg, aspectratio, baseratio, …])\n",
    "* Indicator([arg, align, customdata, …])\n",
    "\n",
    "#### 3D Traces –\n",
    "\n",
    "* Scatter3d([arg, connectgaps, customdata, …])\n",
    "* Surface([arg, autocolorscale, cauto, cmax, …])\n",
    "* Mesh3d([arg, alphahull, autocolorscale, …])\n",
    "* Cone([arg, anchor, autocolorscale, cauto, …])\n",
    "* Streamtube([arg, autocolorscale, cauto, …])\n",
    "* Volume([arg, autocolorscale, caps, cauto, …])\n",
    "* Isosurface([arg, autocolorscale, caps, …])\n",
    "\n",
    "#### Map Traces\n",
    "* Scattergeo([arg, connectgaps, customdata, …])\n",
    "* Choropleth([arg, autocolorscale, coloraxis, …])\n",
    "* Scattermapbox([arg, below, connectgaps, …])\n",
    "* Choroplethmapbox([arg, autocolorscale, …])\n",
    "* Densitymapbox([arg, autocolorscale, below, …])\n",
    "\n",
    "#### Specialized Traces\n",
    "* Scatterpolar([arg, cliponaxis, connectgaps, …])\n",
    "* Scatterpolargl([arg, connectgaps, …])\n",
    "* Barpolar([arg, base, basesrc, customdata, …])\n",
    "* Scatterternary([arg, a, asrc, b, bsrc, c, …])\n",
    "* Sunburst([arg, branchvalues, count, …])\n",
    "* Treemap([arg, branchvalues, count, …])\n",
    "* Sankey([arg, arrangement, customdata, …])\n",
    "* Splom([arg, customdata, customdatasrc, …])\n",
    "* Parcats([arg, arrangement, bundlecolors, …])\n",
    "* Parcoords([arg, customdata, customdatasrc, …])\n",
    "* Carpet([arg, a, a0, aaxis, asrc, b, b0, …])\n",
    "* Scattercarpet([arg, a, asrc, b, bsrc, …])\n",
    "* Contourcarpet([arg, a, a0, asrc, atype, …])"
   ]
  },
  {
   "cell_type": "markdown",
   "metadata": {},
   "source": [
    "### Pandas와 쉽게 호환되는 cufflinks\n",
    "* [santosjorge/cufflinks: Productivity Tools for Plotly + Pandas](https://github.com/santosjorge/cufflinks)"
   ]
  },
  {
   "cell_type": "markdown",
   "metadata": {},
   "source": [
    "## 필요한 라이브러리 로드"
   ]
  },
  {
   "cell_type": "code",
   "execution_count": null,
   "metadata": {},
   "outputs": [],
   "source": [
    "# plotly 최신버전을 사용해 주세요. 최신버전이 아닐 때 동작하지 않을 수 있습니다.\n",
    "# !pip install plotly --upgrade"
   ]
  },
  {
   "cell_type": "code",
   "execution_count": null,
   "metadata": {},
   "outputs": [],
   "source": []
  },
  {
   "cell_type": "markdown",
   "metadata": {},
   "source": [
    "## plotly 예제 따라하기\n",
    "* [Time Series and Date Axes | Python | Plotly](https://plotly.com/python/time-series/)"
   ]
  },
  {
   "cell_type": "code",
   "execution_count": null,
   "metadata": {},
   "outputs": [],
   "source": [
    "# px 에서 내장하고 있는 data.stocks 데이터를 불러옵니다.\n"
   ]
  },
  {
   "cell_type": "markdown",
   "metadata": {},
   "source": [
    "## 일별 수익률 선그래프 그리기"
   ]
  },
  {
   "cell_type": "code",
   "execution_count": null,
   "metadata": {},
   "outputs": [],
   "source": [
    "# px.line 으로 특정 종목(\"GOOG\")에 대해 선그래프를 그립니다.\n"
   ]
  },
  {
   "cell_type": "markdown",
   "metadata": {},
   "source": [
    "## 일별 수익률 막대그래프 그리기"
   ]
  },
  {
   "cell_type": "code",
   "execution_count": null,
   "metadata": {},
   "outputs": [],
   "source": [
    "# 일별 수익률에서 -1을 빼줍니다.\n",
    "# df_1"
   ]
  },
  {
   "cell_type": "code",
   "execution_count": null,
   "metadata": {},
   "outputs": [],
   "source": [
    "# 수익률을 막대그래프로 그립니다.\n"
   ]
  },
  {
   "cell_type": "markdown",
   "metadata": {},
   "source": [
    "## facet_col을 사용한 서브플롯 그리기"
   ]
  },
  {
   "cell_type": "code",
   "execution_count": null,
   "metadata": {},
   "outputs": [],
   "source": [
    "# df_1.columns 의 name을 \"company\"로 지정하기\n"
   ]
  },
  {
   "cell_type": "code",
   "execution_count": null,
   "metadata": {},
   "outputs": [],
   "source": [
    "# px.area 로 수익률 분포를 그립니다.\n",
    "# facet_col 을 통해 서브플롯을 그릴 수 있습니다.\n"
   ]
  },
  {
   "cell_type": "markdown",
   "metadata": {},
   "source": [
    "## 여러 종목을 하나의 그래프로 표현하기"
   ]
  },
  {
   "cell_type": "code",
   "execution_count": null,
   "metadata": {},
   "outputs": [],
   "source": [
    "# px.line 으로 전체 데이터의 수익률을 구합니다.\n",
    "# hover_data={\"date\": \"|%Y-%m-%d\"} 로 시간을 표현할 수 있습니다.\n"
   ]
  },
  {
   "cell_type": "markdown",
   "metadata": {},
   "source": [
    "##  Range Slider와 함께 시계열 그래프 그리기\n",
    "* [Time Series and Date Axes | Python | Plotly](https://plotly.com/python/time-series/)"
   ]
  },
  {
   "cell_type": "code",
   "execution_count": null,
   "metadata": {},
   "outputs": [],
   "source": []
  },
  {
   "cell_type": "markdown",
   "metadata": {},
   "source": [
    "## Simple Candlestick with Pandas\n",
    "\n",
    "<img src=\"https://upload.wikimedia.org/wikipedia/commons/thumb/9/92/Candlestick_chart_scheme_01-en.svg/1280px-Candlestick_chart_scheme_01-en.svg.png\" width=\"300\">\n",
    "\n",
    "캔들스틱 차트(영어: Candlestick chart) 또는 봉차트, 일본식 캔들스틱 차트는 주식을 비롯한 유가증권과 파생상품, 환율의 가격 움직임을 보여주는 금융 차트이다. 각각의 \"캔들스틱\" 또는 \"봉\"은 일반적으로 \"하루\"의 가격 움직임을 나타내며, 따라서 20일간의 거래를 보여주는 차트에는 20개의 캔들스틱이 있다.\n",
    "\n",
    "캔들스틱 차트는 기술 통계학에서 사용되는 상자 수염 그림과 외적으로 유사하지만, 상자 수염 그림은 캔들스틱과 달리 금융이 아닌 다른 정보들을 표시한다.\n",
    "\n",
    "출처 : [캔들스틱 차트 - 위키백과, 우리 모두의 백과사전](https://ko.wikipedia.org/wiki/%EC%BA%94%EB%93%A4%EC%8A%A4%ED%8B%B1_%EC%B0%A8%ED%8A%B8)\n",
    "\n",
    "<img src=\"https://i.imgur.com/8hS43K1.png\">\n",
    "\n",
    "* [Candlestick Charts | Python | Plotly](https://plotly.com/python/candlestick-charts/)"
   ]
  },
  {
   "cell_type": "code",
   "execution_count": null,
   "metadata": {},
   "outputs": [],
   "source": [
    "# plotly.graph_objects 를 go라는 별칭으로 불러옵니다.\n"
   ]
  },
  {
   "cell_type": "code",
   "execution_count": null,
   "metadata": {},
   "outputs": [],
   "source": [
    "# go.Candlestick 을 그립니다.\n",
    "df = pd.read_csv('https://raw.githubusercontent.com/plotly/datasets/master/finance-charts-apple.csv')\n"
   ]
  },
  {
   "cell_type": "markdown",
   "metadata": {},
   "source": [
    "## OHLC(Open-High-Low-Close)\n",
    "\n",
    "\n",
    "<img src=\"https://i.imgur.com/7str78U.png\">\n",
    "\n",
    "\n",
    "* [OHLC Charts | Python | Plotly](https://plotly.com/python/ohlc-charts/)"
   ]
  },
  {
   "cell_type": "code",
   "execution_count": null,
   "metadata": {},
   "outputs": [],
   "source": [
    "# go.Ohlc를 그립니다.\n"
   ]
  },
  {
   "cell_type": "markdown",
   "metadata": {},
   "source": [
    "## Candlestick without Rangeslider\n",
    "* [candlestick Traces | Python | Plotly](https://plotly.com/python/reference/candlestick/)"
   ]
  },
  {
   "cell_type": "code",
   "execution_count": null,
   "metadata": {},
   "outputs": [],
   "source": [
    "# Rangeslider를 제외하고 Candlestick을 그립니다.\n"
   ]
  },
  {
   "cell_type": "markdown",
   "metadata": {},
   "source": [
    "## 직접 수집한 주가 데이터로 시각화 해보기"
   ]
  },
  {
   "cell_type": "code",
   "execution_count": null,
   "metadata": {},
   "outputs": [],
   "source": [
    "# FinanceDataReader 로드하기\n"
   ]
  },
  {
   "cell_type": "code",
   "execution_count": null,
   "metadata": {},
   "outputs": [],
   "source": [
    "# 특정 주가 불러오기\n",
    "# FinanceDataReader의 DataReader는 미국 주식의 경우 종목코드대신 티커(Ticker)를 사용합니다.\n",
    "# 티커는 약자와 비슷합니다.(마이크로소프트:MSFT, 스타벅스:SBUX 등)\n",
    "# amd\n"
   ]
  },
  {
   "cell_type": "markdown",
   "metadata": {},
   "source": [
    "### 선그래프 그리기"
   ]
  },
  {
   "cell_type": "code",
   "execution_count": null,
   "metadata": {},
   "outputs": [],
   "source": [
    "# px.line\n"
   ]
  },
  {
   "cell_type": "code",
   "execution_count": null,
   "metadata": {},
   "outputs": [],
   "source": [
    "# 전일비에 대한 선 그래프를 그립니다.\n"
   ]
  },
  {
   "cell_type": "code",
   "execution_count": null,
   "metadata": {},
   "outputs": [],
   "source": [
    "# 전일비에 대한 히스토그램을 그립니다.\n",
    "# marginal=\"box\" 옵션을 사용해 봅니다.\n"
   ]
  },
  {
   "cell_type": "markdown",
   "metadata": {},
   "source": [
    "###  Range Slider와 함께 Candlestick 그리기\n",
    "* [Time Series and Date Axes | Python | Plotly](https://plotly.com/python/time-series/)"
   ]
  },
  {
   "cell_type": "code",
   "execution_count": null,
   "metadata": {},
   "outputs": [],
   "source": []
  },
  {
   "cell_type": "markdown",
   "metadata": {},
   "source": [
    "### OHLC(Open-High-Low-Close)"
   ]
  },
  {
   "cell_type": "code",
   "execution_count": null,
   "metadata": {
    "scrolled": false
   },
   "outputs": [],
   "source": []
  },
  {
   "cell_type": "markdown",
   "metadata": {},
   "source": [
    "### 여러 종목의 수익률 보기"
   ]
  },
  {
   "cell_type": "code",
   "execution_count": null,
   "metadata": {},
   "outputs": [],
   "source": [
    "FAANG = [\"FB\", \"AMZN\", \"AAPL\", \"NFLX\", \"GOOGL\"]"
   ]
  },
  {
   "cell_type": "code",
   "execution_count": null,
   "metadata": {},
   "outputs": [],
   "source": [
    "# faang_list 의 종가 가져오기\n",
    "# faang_list\n"
   ]
  },
  {
   "cell_type": "code",
   "execution_count": null,
   "metadata": {},
   "outputs": [],
   "source": [
    "# concat 으로 데이터 병합하기\n",
    "# df_faang"
   ]
  },
  {
   "cell_type": "code",
   "execution_count": null,
   "metadata": {},
   "outputs": [],
   "source": [
    "# 수집한 데이터 확인하기\n"
   ]
  },
  {
   "cell_type": "code",
   "execution_count": null,
   "metadata": {},
   "outputs": [],
   "source": []
  },
  {
   "cell_type": "code",
   "execution_count": null,
   "metadata": {},
   "outputs": [],
   "source": [
    "# 일별 수익률 구하기\n",
    "# df_ratio\n"
   ]
  },
  {
   "cell_type": "code",
   "execution_count": null,
   "metadata": {},
   "outputs": [],
   "source": [
    "# 서브플롯을 그리기 위해 columns.name 을 설정하기\n"
   ]
  },
  {
   "cell_type": "markdown",
   "metadata": {},
   "source": [
    "### 선그래프 그리기"
   ]
  },
  {
   "cell_type": "code",
   "execution_count": null,
   "metadata": {},
   "outputs": [],
   "source": [
    "# px.line 으로 선 그래프 그리기\n"
   ]
  },
  {
   "cell_type": "markdown",
   "metadata": {},
   "source": [
    "### areaplot 그리기"
   ]
  },
  {
   "cell_type": "code",
   "execution_count": null,
   "metadata": {},
   "outputs": [],
   "source": [
    "# px.area 로 수익률 그래프 그리기\n"
   ]
  },
  {
   "cell_type": "code",
   "execution_count": null,
   "metadata": {},
   "outputs": [],
   "source": []
  },
  {
   "cell_type": "markdown",
   "metadata": {},
   "source": [
    "### 막대그래프 그리기"
   ]
  },
  {
   "cell_type": "code",
   "execution_count": null,
   "metadata": {},
   "outputs": [],
   "source": []
  },
  {
   "cell_type": "code",
   "execution_count": null,
   "metadata": {},
   "outputs": [],
   "source": []
  },
  {
   "cell_type": "markdown",
   "metadata": {},
   "source": [
    "### scatterplot 그리기"
   ]
  },
  {
   "cell_type": "code",
   "execution_count": null,
   "metadata": {},
   "outputs": [],
   "source": []
  },
  {
   "cell_type": "markdown",
   "metadata": {},
   "source": [
    "### distribution 그리기"
   ]
  },
  {
   "cell_type": "code",
   "execution_count": null,
   "metadata": {},
   "outputs": [],
   "source": [
    "# px.box\n"
   ]
  },
  {
   "cell_type": "code",
   "execution_count": null,
   "metadata": {},
   "outputs": [],
   "source": [
    "# px.violin\n"
   ]
  },
  {
   "cell_type": "code",
   "execution_count": null,
   "metadata": {},
   "outputs": [],
   "source": [
    "# px.strip\n"
   ]
  },
  {
   "cell_type": "code",
   "execution_count": null,
   "metadata": {},
   "outputs": [],
   "source": [
    "# px.histogram\n"
   ]
  },
  {
   "cell_type": "markdown",
   "metadata": {},
   "source": [
    "## Plotly 공식문서 더 보기\n",
    "\n",
    "[Plotly Python Graphing Library | Python | Plotly](https://plotly.com/python/)"
   ]
  },
  {
   "cell_type": "code",
   "execution_count": null,
   "metadata": {},
   "outputs": [],
   "source": []
  },
  {
   "cell_type": "code",
   "execution_count": null,
   "metadata": {},
   "outputs": [],
   "source": []
  }
 ],
 "metadata": {
  "kernelspec": {
   "display_name": "Python 3",
   "language": "python",
   "name": "python3"
  },
  "language_info": {
   "codemirror_mode": {
    "name": "ipython",
    "version": 3
   },
   "file_extension": ".py",
   "mimetype": "text/x-python",
   "name": "python",
   "nbconvert_exporter": "python",
   "pygments_lexer": "ipython3",
   "version": "3.7.6"
  },
  "toc": {
   "base_numbering": 1,
   "nav_menu": {},
   "number_sections": true,
   "sideBar": true,
   "skip_h1_title": false,
   "title_cell": "Table of Contents",
   "title_sidebar": "Contents",
   "toc_cell": false,
   "toc_position": {
    "height": "calc(100% - 180px)",
    "left": "10px",
    "top": "150px",
    "width": "256px"
   },
   "toc_section_display": true,
   "toc_window_display": true
  },
  "varInspector": {
   "cols": {
    "lenName": 16,
    "lenType": 16,
    "lenVar": 40
   },
   "kernels_config": {
    "python": {
     "delete_cmd_postfix": "",
     "delete_cmd_prefix": "del ",
     "library": "var_list.py",
     "varRefreshCmd": "print(var_dic_list())"
    },
    "r": {
     "delete_cmd_postfix": ") ",
     "delete_cmd_prefix": "rm(",
     "library": "var_list.r",
     "varRefreshCmd": "cat(var_dic_list()) "
    }
   },
   "types_to_exclude": [
    "module",
    "function",
    "builtin_function_or_method",
    "instance",
    "_Feature"
   ],
   "window_display": false
  }
 },
 "nbformat": 4,
 "nbformat_minor": 4
}
