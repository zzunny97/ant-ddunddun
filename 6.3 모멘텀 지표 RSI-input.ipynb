{
 "cells": [
  {
   "cell_type": "markdown",
   "metadata": {},
   "source": [
    "[![Open In Colab](https://colab.research.google.com/assets/colab-badge.svg)](https://colab.research.google.com/github/corazzon/finance-data-analysis/blob/main/6.3%20%EB%AA%A8%EB%A9%98%ED%85%80%20%EC%A7%80%ED%91%9C%20RSI-input.ipynb)\n",
    "\n",
    "# RSI(Relative Strength Index)\n",
    "\n",
    "* 모멘텀 : 운동량 (運動量, 영어: momentum)은 물리학 특히, 뉴턴 역학에서 물체의 질량과 속도의 곱으로 나타내는 물리량이다\n",
    "\n",
    "\n",
    "상대강도지수(相對强度指數, 영어: relative strength index, RSI)는 주식, 선물, 옵션 등의 기술적 분석에 사용되는 보조 지표이다. RSI는 가격의 상승압력과 하락압력 간의 상대적인 강도를 나타낸다. 1978년 미국의 월레스 와일더(J. Welles Wilder Jr.)가 개발했다.\n",
    "\n",
    "\n",
    "RSI는 일정 기간 동안 주가가 전일 가격에 비해 상승한 변화량과 하락한 변화량의 평균값을 구하여, 상승한 변화량이 크면 과매수로, 하락한 변화량이 크면 과매도로 판단하는 방식이다.\n",
    "\n",
    "계산 방법은 다음과 같다. 주어진 기간의 모든 날의 주가에 대해서\n",
    "\n",
    "* 가격이 전일 가격보다 상승한 날의 상승분은 U(up) 값이라고 하고,\n",
    "* 가격이 전일 가격보다 하락한 날의 하락분은 D(down) 값이라고 한다.\n",
    "* U값과 D값의 평균값을 구하여 그것을 각각 AU(average ups)와 AD(average downs)라 한다.\n",
    "*  AU를 AD값으로 나눈 것을 RS(relative strength) 값이라고 한다. RS 값이 크다는 것은 일정 기간 하락한 폭보다 상승한 폭이 크다는 것을 의미한다.\n",
    "다음 계산에 의하여 RSI 값을 구한다.\n",
    "\n",
    "\n",
    "* RSI 계산 공식 :\n",
    "    * RS = AU / AD\n",
    "    * RSI = RS / (1 + RS) = AU / (AU + AD)\n",
    "\n",
    "대체로 이 값은 백분율로 나타낸다.\n",
    "\n",
    "이 지표의 파라메터로는 기간을 며칠 동안으로 할 것인가가 있다. Welles Wilder는 14일을 사용할 것을 권유했다. 대체로 사용되는 값은 9일, 14 ~ 15일, 25 ~ 28일 등이다.\n",
    "\n",
    "RSI 그래프는 이동평균선을 함께 나타내는 것이 보통이며, 이동평균선을 며칠선으로 할 것인가 역시 파라메터로 주어진다. RSI를 15일에 대하여 구하고 5일 이동평균선을 함께 표시하는 경우 그래프에 (15, 5)라고 표시해주는 것이 일반적이다.\n",
    "\n",
    "유사한 지표로는 스토캐스틱이 있다. RSI 그래프의 형태는 fast stochastic과 비슷하게 나온다.\n",
    "\n",
    "\n",
    "출처 : https://ko.wikipedia.org/wiki/RSI_(%ED%88%AC%EC%9E%90%EC%A7%80%ED%91%9C)\n",
    "\n",
    "* 지표의 파라메터를 14일로 했을 때\n",
    "    * RSI = 14일의 상승폭 합계 / (14일의 상승폭 합계 + 14일의 하락폭 합)\n",
    "    * 수식에 따라 RSI 는 0~1 사이의 값 만을 가지게 됩니다.\n",
    "    * 만일 14일 동안 매일 상승하게 되면 1이 나오고 14일 동안 매일 하락하게 되면 0이 나옵니다.\n",
    "    * 보통 0.7이 과열, 0.3이 침체로 봅니다."
   ]
  },
  {
   "cell_type": "markdown",
   "metadata": {},
   "source": [
    "## RSI 계산 공식\n",
    "1. U = 전날 주가보다 오늘 주가가 상승할 때의 주가 상승폭(up)\n",
    "2. D = 전날 주가보다 오늘 주가가 하락할 때의 주가 하락폭(down)\n",
    "3. AU = 일정기간(N일,보통14일) 동안의 U의 평균값(average ups)\n",
    "4. AD = 일정기간(N일,보통14일) 동안의 D의 평균값(average downs)\n",
    "5. RS = AU / AD\n",
    "6. RSI = AU / (AU+AD) = RS / (1+RS)\n",
    "7. RSI 시그널 = RSI의 이동평균선 (6일의 이동평균선 사용)"
   ]
  },
  {
   "cell_type": "markdown",
   "metadata": {},
   "source": [
    "## 라이브러리 로드"
   ]
  },
  {
   "cell_type": "code",
   "execution_count": null,
   "metadata": {},
   "outputs": [],
   "source": [
    "# 데이터 분석을 위해 pandas, numpy 시각화를 위해 matplotlib 불러오기\n",
    "\n"
   ]
  },
  {
   "cell_type": "markdown",
   "metadata": {},
   "source": [
    "## 개별종목 일별시세 가져오기"
   ]
  },
  {
   "cell_type": "code",
   "execution_count": null,
   "metadata": {},
   "outputs": [],
   "source": [
    "# FinanceDataReader 불러오기\n"
   ]
  },
  {
   "cell_type": "code",
   "execution_count": null,
   "metadata": {},
   "outputs": [],
   "source": [
    "# 005930 : 삼성전자\n",
    "# df"
   ]
  },
  {
   "cell_type": "markdown",
   "metadata": {},
   "source": [
    "## 전일 대비 상승, 하락 변수 생성하기"
   ]
  },
  {
   "cell_type": "code",
   "execution_count": null,
   "metadata": {},
   "outputs": [],
   "source": [
    "# 전일 대비 가격 차이 구해서 diff 컬럼을 생성합니다.\n",
    "# 결측치는 제거합니다.\n",
    "# df[\"diff\"]"
   ]
  },
  {
   "cell_type": "code",
   "execution_count": null,
   "metadata": {},
   "outputs": [],
   "source": [
    "def UD(diff):\n",
    "    \"\"\"\n",
    "    diff 값을 입력받아 0이면 ups, downs을 0으로 \n",
    "    0보다 크면 ups 에 diff값을 작으면 downs 에 abs(diff) 값을 반환합니다.\n",
    "    ups = 전날 주가보다 오늘 주가가 상승할 때의 주가 상승폭(up)\n",
    "    downs = 전날 주가보다 오늘 주가가 하락할 때의 주가 하락폭(down)\n",
    "    \"\"\"\n",
    "    "
   ]
  },
  {
   "cell_type": "code",
   "execution_count": null,
   "metadata": {},
   "outputs": [],
   "source": [
    "# 위에서 만든 함수를 통해 \"U\", \"D\" 컬럼 생성하기\n",
    "# df[[\"U\", \"D\"]]"
   ]
  },
  {
   "cell_type": "markdown",
   "metadata": {},
   "source": [
    "## AU / AD 변수 생성하기\n",
    "* AU = 일정기간(N일,보통14일) 동안의 U의 평균값(average ups)\n",
    "* AD = 일정기간(N일,보통14일) 동안의 D의 평균값(average downs)"
   ]
  },
  {
   "cell_type": "code",
   "execution_count": null,
   "metadata": {},
   "outputs": [],
   "source": [
    "# AU = 일정기간(N일,보통14일) 동안의 U의 평균값(average ups)\n",
    "# AD = 일정기간(N일,보통14일) 동안의 D의 평균값(average downs)\n",
    "# df[\"AU\"]\n",
    "# df[\"AD\"]"
   ]
  },
  {
   "cell_type": "markdown",
   "metadata": {},
   "source": [
    "## RS, RSI 만들기\n",
    "* RS = AU / AD\n",
    "* RSI = AU / (AU+AD) = RS / (1+RS)"
   ]
  },
  {
   "cell_type": "code",
   "execution_count": null,
   "metadata": {},
   "outputs": [],
   "source": [
    "# RS, RSI값을 계산해 컬럼에 담습니다.\n",
    "# df[\"RS\"]\n",
    "# df[\"RSI\"]"
   ]
  },
  {
   "cell_type": "markdown",
   "metadata": {},
   "source": [
    "## RSI signal 만들기\n",
    "* RSI 시그널 = RSI의 이동평균선 (6일의 이동평균선 사용)"
   ]
  },
  {
   "cell_type": "code",
   "execution_count": null,
   "metadata": {},
   "outputs": [],
   "source": [
    "# RSI_signal 변수를 생성합니다.\n",
    "# df['RSI_signal']"
   ]
  },
  {
   "cell_type": "markdown",
   "metadata": {},
   "source": [
    "\n",
    "## RSI의 해석\n",
    "1. RSI는 50%를 기준으로, 50% 이상은 매수세 우세, 50% 이하는 매도세 우세를 나타냅니다.\n",
    "2. RSI가 70% 이상이면 매수세가 상당히 커서 초과매수 국면에 돌입했다고 판단합니다.\n",
    "3. RSI가 30% 이하이면 매도세가 상당히 커서 초과매도 국면에 돌입했다고 판단합니다.\n",
    "4. RSI가 시그널선을 상향돌파하면 단기적으로 매수세가 늘어나는 추세라고 판단합니다.\n",
    "5. RSI가 시그널선을 하향돌파하면 단기적으로 매도세가 늘어나는 추세라고 판단합니다.\n",
    "\n",
    "\n",
    "* [RSI (투자지표) - 위키백과, 우리 모두의 백과사전](https://ko.wikipedia.org/wiki/RSI_(%ED%88%AC%EC%9E%90%EC%A7%80%ED%91%9C))"
   ]
  },
  {
   "cell_type": "code",
   "execution_count": null,
   "metadata": {},
   "outputs": [],
   "source": [
    "# RSI와 비교해 보기 위해 종가를 시각화 합니다.\n"
   ]
  },
  {
   "cell_type": "code",
   "execution_count": null,
   "metadata": {},
   "outputs": [],
   "source": [
    "# 'RSI','RSI_signal' 을 시각화 하고 0.7, 0.5, 0.3 기준선을 그립니다.\n"
   ]
  },
  {
   "cell_type": "markdown",
   "metadata": {},
   "source": [
    "## plotly를 통한 시각화 "
   ]
  },
  {
   "cell_type": "markdown",
   "metadata": {},
   "source": [
    "### plotly.express 로 간단하게 시각화 하기"
   ]
  },
  {
   "cell_type": "code",
   "execution_count": null,
   "metadata": {},
   "outputs": [],
   "source": [
    "# plotly 최신버전을 사용해 주세요. 최신버전이 아닐 때 동작하지 않을 수 있습니다.\n",
    "# !pip install plotly --upgrade"
   ]
  },
  {
   "cell_type": "code",
   "execution_count": null,
   "metadata": {},
   "outputs": [],
   "source": [
    "# plotly.express 로드하기\n"
   ]
  },
  {
   "cell_type": "code",
   "execution_count": null,
   "metadata": {},
   "outputs": [],
   "source": [
    "# 0.3, 0.7 값을 컬럼으로 만들어 줍니다.\n"
   ]
  },
  {
   "cell_type": "code",
   "execution_count": null,
   "metadata": {},
   "outputs": [],
   "source": [
    "# plotly.express 를 통해 시각화 합니다.\n"
   ]
  },
  {
   "cell_type": "markdown",
   "metadata": {},
   "source": [
    "### graph_objs 와 subplots 을 사용한 시각화"
   ]
  },
  {
   "cell_type": "code",
   "execution_count": null,
   "metadata": {},
   "outputs": [],
   "source": [
    "import plotly.graph_objects as go\n",
    "from plotly.subplots import make_subplots\n",
    "\n",
    "fig = make_subplots(rows=3, cols=1,\n",
    "                    vertical_spacing=0.01,\n",
    "                    shared_xaxes=True,\n",
    "                    subplot_titles=('<b>삼성전자</b>',\n",
    "                                    '<b>Select Date Range!</b>',\n",
    "                                    '<b>RSI & RSI signal</b>'))\n",
    "\n",
    "fig.add_trace(go.Candlestick(x=df.index, \n",
    "                             open=df['Open'],\n",
    "                             high=df['High'],\n",
    "                             low=df['Low'],\n",
    "                             close=df['Close'],name='candle stick'), row=1, col=1)\n",
    "\n",
    "fig.add_trace(go.Scatter(x=df.index, y=df['RSI'],\n",
    "                         line=dict(color='blue'),\n",
    "                         name='RSI'), row=3, col=1)\n",
    "fig.add_trace(go.Scatter(x=df.index, y=df['RSI_signal'],\n",
    "                         line=dict(color='red'),\n",
    "                         name='RSI_signal'), row=3, col=1)\n",
    "fig.add_trace(go.Scatter(x=df.index, y=np.ones(len(df))*0.3,\n",
    "                         line=dict(color='red',dash='dash'),\n",
    "                         name='Low bound'),row=3,col=1)\n",
    "fig.add_trace(go.Scatter(x=df.index, y=np.ones(len(df))*0.7,\n",
    "                         line=dict(color='blue',dash='dash'),\n",
    "                         name='High bound'),row=3,col=1)\n",
    "\n",
    "fig.update_layout(width=800, height=800, xaxis_rangeslider_visible=True)\n",
    "\n",
    "fig.show()"
   ]
  },
  {
   "cell_type": "markdown",
   "metadata": {},
   "source": [
    "* (주의사항) RSI 지표역시 하나의 단순한 지표이기 때문에 너무 맹신하여서는 안 됩니다."
   ]
  },
  {
   "cell_type": "code",
   "execution_count": null,
   "metadata": {},
   "outputs": [],
   "source": []
  },
  {
   "cell_type": "code",
   "execution_count": null,
   "metadata": {},
   "outputs": [],
   "source": []
  }
 ],
 "metadata": {
  "kernelspec": {
   "display_name": "Python 3",
   "language": "python",
   "name": "python3"
  },
  "language_info": {
   "codemirror_mode": {
    "name": "ipython",
    "version": 3
   },
   "file_extension": ".py",
   "mimetype": "text/x-python",
   "name": "python",
   "nbconvert_exporter": "python",
   "pygments_lexer": "ipython3",
   "version": "3.7.6"
  },
  "toc": {
   "base_numbering": 1,
   "nav_menu": {},
   "number_sections": true,
   "sideBar": true,
   "skip_h1_title": false,
   "title_cell": "Table of Contents",
   "title_sidebar": "Contents",
   "toc_cell": false,
   "toc_position": {
    "height": "calc(100% - 180px)",
    "left": "10px",
    "top": "150px",
    "width": "204.8px"
   },
   "toc_section_display": true,
   "toc_window_display": true
  },
  "varInspector": {
   "cols": {
    "lenName": 16,
    "lenType": 16,
    "lenVar": 40
   },
   "kernels_config": {
    "python": {
     "delete_cmd_postfix": "",
     "delete_cmd_prefix": "del ",
     "library": "var_list.py",
     "varRefreshCmd": "print(var_dic_list())"
    },
    "r": {
     "delete_cmd_postfix": ") ",
     "delete_cmd_prefix": "rm(",
     "library": "var_list.r",
     "varRefreshCmd": "cat(var_dic_list()) "
    }
   },
   "types_to_exclude": [
    "module",
    "function",
    "builtin_function_or_method",
    "instance",
    "_Feature"
   ],
   "window_display": false
  }
 },
 "nbformat": 4,
 "nbformat_minor": 4
}
