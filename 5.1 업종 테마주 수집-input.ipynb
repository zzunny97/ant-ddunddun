{
 "cells": [
  {
   "cell_type": "markdown",
   "metadata": {
    "id": "s1KBVebhpSVa"
   },
   "source": [
    "[![Open In Colab](https://colab.research.google.com/assets/colab-badge.svg)](https://colab.research.google.com/github/corazzon/finance-data-analysis/blob/main/5.1%20%EC%97%85%EC%A2%85%20%ED%85%8C%EB%A7%88%EC%A3%BC%20%EC%88%98%EC%A7%91-input.ipynb)\n",
    "\n",
    "## 업종/테마 미션\n",
    "\n",
    "* 팀장님이 우리 회사와 유사한 업종과 테마로 사업을 하고 있는 종목을 수집해서 분석해 달라는 미션을 주셨습니다.\n",
    "* 코스피에서 해당 업종 혹은 테마의 시가총액이 가장 많은 종목을 찾아주세요.\n",
    "* 해당 업종/테마의 거래량이 가장 많은 종목을 찾아주세요.\n",
    "* 최근 52주 최고가에서 현재가 기준으로 가장 손실이 크게 난 종목은 어떤 종목일까요?\n",
    "* 거래대금이 20위 안에 있는 코스피 종목 중에 \"PER\"가 가장 낮은 종목은 무엇일까요?\n",
    "\n",
    "\n",
    "## 업종/테마주 수집\n",
    "\n",
    "전체 실습을 하고 아래의 URL로 URL만 변경하게 되면 원하는 업종과 테마를 수집할 수 있습니다.\n",
    "\n",
    "* 2차 전지 : https://finance.naver.com/sise/sise_group_detail.nhn?type=theme&no=64\n",
    "* 제약 업종 : https://finance.naver.com/sise/sise_group_detail.nhn?type=upjong&no=35\n",
    "* 코로나19(덱사메타손) : https://finance.naver.com/sise/sise_group_detail.nhn?type=theme&no=442\n",
    "* 제약업체 : https://finance.naver.com/sise/sise_group_detail.nhn?type=theme&no=172\n",
    "* 바이오시밀러(복제 바이오의약품) : https://finance.naver.com/sise/sise_group_detail.nhn?type=theme&no=241"
   ]
  },
  {
   "cell_type": "code",
   "execution_count": null,
   "metadata": {
    "id": "Y9SHu_YepSVb"
   },
   "outputs": [],
   "source": [
    "# 라이브러리 로드 : pandas, matplotlib.pyplot\n"
   ]
  },
  {
   "cell_type": "code",
   "execution_count": null,
   "metadata": {},
   "outputs": [],
   "source": [
    "def get_font_family():\n",
    "    \"\"\"\n",
    "    시스템 환경에 따른 기본 폰트명을 반환하는 함수\n",
    "    \"\"\"\n",
    "    import platform\n",
    "    system_name = platform.system()\n",
    "    # colab 사용자는 system_name이 'Linux'로 확인\n",
    "\n",
    "    if system_name == \"Darwin\" :\n",
    "        font_family = \"AppleGothic\"\n",
    "    elif system_name == \"Windows\":\n",
    "        font_family = \"Malgun Gothic\"\n",
    "    else:\n",
    "        # Linux\n",
    "        # colab에서는 runtime을 <꼭> 재시작 해야합니다.\n",
    "        # 런타임을 재시작 하지 않고 폰트 설치를 하면 기본 설정 폰트가 로드되어 한글이 깨집니다.\n",
    "        !apt-get update -qq\n",
    "        !apt-get install fonts-nanum -qq  > /dev/null\n",
    "\n",
    "        import matplotlib.font_manager as fm\n",
    "\n",
    "        fontpath = '/usr/share/fonts/truetype/nanum/NanumBarunGothic.ttf'\n",
    "        font = fm.FontProperties(fname=fontpath, size=9)\n",
    "        fm._rebuild()\n",
    "        font_family = \"NanumBarunGothic\"\n",
    "    return font_family"
   ]
  },
  {
   "cell_type": "code",
   "execution_count": null,
   "metadata": {},
   "outputs": [],
   "source": [
    "font_family = get_font_family()"
   ]
  },
  {
   "cell_type": "code",
   "execution_count": null,
   "metadata": {},
   "outputs": [],
   "source": [
    "# 사용가능한 폰트 스타일\n",
    "print(plt.style.available)"
   ]
  },
  {
   "cell_type": "code",
   "execution_count": null,
   "metadata": {
    "id": "OenYgaAjpSVb"
   },
   "outputs": [],
   "source": [
    "# 그래프 스타일 설정\n",
    "\n",
    "\n",
    "# 폰트설정\n",
    "\n",
    "\n",
    "# 마이너스폰트 설정\n",
    "\n",
    "\n",
    "# 그래프에 retina display 적용\n"
   ]
  },
  {
   "cell_type": "code",
   "execution_count": null,
   "metadata": {
    "id": "67BK4ffjpSVb"
   },
   "outputs": [],
   "source": [
    "# 한글폰트가 제대로 동작하는지 확인하기\n"
   ]
  },
  {
   "cell_type": "markdown",
   "metadata": {},
   "source": [
    "### 제약업종 수집하기\n",
    "* https://finance.naver.com/sise/sise_group_detail.nhn?type=upjong&no=35"
   ]
  },
  {
   "cell_type": "code",
   "execution_count": null,
   "metadata": {
    "id": "6aiUnujopSVb"
   },
   "outputs": [],
   "source": [
    "# 수집할 업종/테마주소\n",
    "# url = \"https://finance.naver.com/sise/sise_group_detail.nhn?type=upjong&no=35\"\n",
    "# 2차전지\n",
    "# url = \"https://finance.naver.com/sise/sise_group_detail.nhn?type=theme&no=64\""
   ]
  },
  {
   "cell_type": "code",
   "execution_count": null,
   "metadata": {
    "id": "HsmAvWbXpSVb"
   },
   "outputs": [],
   "source": [
    "# read_html을 통해 해당 업종/테마를 수집합니다.\n",
    "# table"
   ]
  },
  {
   "cell_type": "code",
   "execution_count": null,
   "metadata": {
    "id": "5zTFxMaOpSVb"
   },
   "outputs": [],
   "source": [
    "# 데이터들은 table[2]에 전부 있고\n",
    "# dropna를 통해 결측치를 제거합니다.\n",
    "# how='all' 이면 전부 결측치일시 row나 column을 제거합니다.\n",
    "# raw\n",
    "# 3개의 row, 3개의 column이 제거되었습니다."
   ]
  },
  {
   "cell_type": "markdown",
   "metadata": {},
   "source": [
    "## 파생변수 만들기"
   ]
  },
  {
   "cell_type": "code",
   "execution_count": null,
   "metadata": {
    "id": "29zzOiqKpSVb"
   },
   "outputs": [],
   "source": [
    "# datetime을 이용하여 조회한 날짜를 DataFrame에 기록합니다.\n",
    "\n",
    "# today"
   ]
  },
  {
   "cell_type": "code",
   "execution_count": null,
   "metadata": {
    "id": "ZjCaJ25WpSVb"
   },
   "outputs": [],
   "source": [
    "# 일자별로 데이터가 다르니 조회일자를 추가해 줍니다.\n",
    "# raw[\"조회일자\"]"
   ]
  },
  {
   "cell_type": "code",
   "execution_count": null,
   "metadata": {
    "id": "yPLsXODEpSVc"
   },
   "outputs": [],
   "source": [
    "# 조회일자가 추가되었는지 확인해 봅니다.\n"
   ]
  },
  {
   "cell_type": "markdown",
   "metadata": {},
   "source": [
    "## 거래량과 거래대금 시각화"
   ]
  },
  {
   "cell_type": "code",
   "execution_count": null,
   "metadata": {
    "id": "sGmjQKQrpSVc"
   },
   "outputs": [],
   "source": [
    "# 종목명 대비 거래량을 bar chart로 그립니다.\n",
    "# set_index를 해주면 plot시에 y axis label로 그려집니다.\n",
    "# sort_values시의 기본값이 오름차순이기 때문에 \n",
    "# DataFrame의 하위 30개를 가져와야 거래량 상위 30개의 종목을 시각화 합니다.\n",
    "# temp"
   ]
  },
  {
   "cell_type": "code",
   "execution_count": null,
   "metadata": {
    "id": "BIG1HnR3pSVc"
   },
   "outputs": [],
   "source": [
    "# 위와 동일한 방법으로 종목명 대비 거래대금의 bar chart를 시각화 합니다.\n",
    "# temp"
   ]
  },
  {
   "cell_type": "markdown",
   "metadata": {
    "id": "NuTjcptepSVc"
   },
   "source": [
    "## 종목코드 병합\n",
    "* 종목명을 통해 미리 수집해 두었던 krx 전체 상장 종목 목록을 가져오거나 수집해서 데이터를 병합합니다."
   ]
  },
  {
   "cell_type": "code",
   "execution_count": null,
   "metadata": {},
   "outputs": [],
   "source": [
    "# 기존 종목명에는 * 표시가 있기 때문에 * 문자를 제거해서 \"종목명_전처리\"라는 새로운 컬럼에 담아줍니다.\n",
    "# raw[\"종목명_전처리\"]"
   ]
  },
  {
   "cell_type": "code",
   "execution_count": null,
   "metadata": {},
   "outputs": [],
   "source": [
    "# raw 변수에 담긴 데이터프레임을 확인합니다.\n"
   ]
  },
  {
   "cell_type": "code",
   "execution_count": null,
   "metadata": {},
   "outputs": [],
   "source": [
    "# 저장해 두었던 전체거래소목록(krx.csv) 파일을 불러오거나 \n",
    "# FinanceDataReader로 StockListing을 다시 받아서 df_krx 라는 변수에 담습니다.\n",
    "\n",
    "# df_krx"
   ]
  },
  {
   "cell_type": "markdown",
   "metadata": {},
   "source": [
    "### merge 를 통한 종목코드 만들기\n",
    "* concat과 merge의 차이\n",
    "    * concat :  \n",
    "        * axis=0 행을 기준으로 위아래로 같은 컬럼끼리 값을 이어 붙여 새로운 행을 만듦\n",
    "        * axis=1 컬럼을 기준으로 인덱스가 같은 값을 옆으로 붙여 새로운 컬럼을 만듦\n",
    "    * merge :\n",
    "        * index 혹은 특정 컬럼 값을 기준으로 두 개의 데이터프레임을 연결\n",
    "<img src=\"https://pandas.pydata.org/docs/_images/merging_concat_axis1_join_axes.png\">"
   ]
  },
  {
   "cell_type": "code",
   "execution_count": null,
   "metadata": {},
   "outputs": [],
   "source": [
    "# \"Symbol\", \"Name\" 만 사용하기 위해 따로 df_item_code_name 변수로 가져옵니다.\n",
    "# 연결할 key 값으로 사용할 컬럼명을 같게 만들어 주면 전처리가 줄어듭니다.\n",
    "# Symbol => \"종목코드\", Name => \"종목명_전처리\" 로 만들어주면 \n",
    "# \"종목명_전처리\" 를 키값으로 합쳤을 때 전처리가 줄어듭니다.\n",
    "# df_item_code_name"
   ]
  },
  {
   "cell_type": "code",
   "execution_count": null,
   "metadata": {
    "id": "cGh-BUCDpSVc",
    "scrolled": true
   },
   "outputs": [],
   "source": [
    "# 종목갯수를 확인하기 위해 df의 행과 열의 수를 출력합니다.\n"
   ]
  },
  {
   "cell_type": "code",
   "execution_count": null,
   "metadata": {},
   "outputs": [],
   "source": [
    "# 종목코드를 만들어주기 위해 종목명_전처리 컬럼을 기준으로 df_item_code_name 데이터프레임과 병합합니다.\n",
    "# df\n"
   ]
  },
  {
   "cell_type": "code",
   "execution_count": null,
   "metadata": {},
   "outputs": [],
   "source": [
    "# 병합이 잘 되었는지 확인합니다.\n"
   ]
  },
  {
   "cell_type": "markdown",
   "metadata": {
    "id": "QUofMFm2pSVc"
   },
   "source": [
    "## 종목상세정보 수집\n",
    "\n",
    "'종목코드', '시가총액', '시가총액순위', '상장주식수', '액면가l매매단위', '외국인한도주식수(A)',\n",
    "'외국인보유주식수(B)', '외국인소진율(B/A)', '투자의견l목표주가', '52주최고l최저',\n",
    "'추정PERlEPS', '동일업종 PER', '동일업종 등락률', '배당수익률'"
   ]
  },
  {
   "cell_type": "code",
   "execution_count": null,
   "metadata": {},
   "outputs": [],
   "source": [
    "# 전체 종목을 수집하기 전에 일부 종목을 먼저 수집합니다.\n",
    "item_code = \"068270\"\n",
    "item_name = \"셀트리온\""
   ]
  },
  {
   "cell_type": "code",
   "execution_count": null,
   "metadata": {
    "id": "o4qSGs-RpSVc"
   },
   "outputs": [],
   "source": [
    "# 종목상세정보를 위한 url을 확보합니다.\n",
    "# item_code에는 종목코드 수집시에 마지막에 수집된 데이터가 남아있습니다.\n",
    "item_url\n"
   ]
  },
  {
   "cell_type": "code",
   "execution_count": null,
   "metadata": {
    "id": "Va-PEsOHpSVc",
    "scrolled": true
   },
   "outputs": [],
   "source": [
    "# read_html을 이용해 데이터를 수집합니다.\n",
    "tables"
   ]
  },
  {
   "cell_type": "code",
   "execution_count": null,
   "metadata": {
    "id": "V4re1BHApSVc",
    "scrolled": false
   },
   "outputs": [],
   "source": [
    "# 제대로 수집이 되었는지 확인합니다.\n"
   ]
  },
  {
   "cell_type": "code",
   "execution_count": null,
   "metadata": {
    "id": "6MtjfQQ0pSVc"
   },
   "outputs": [],
   "source": [
    "# tables의 원소값을 확인하여 원하는 데이터가 어디에 있는지 확인합니다.\n"
   ]
  },
  {
   "cell_type": "markdown",
   "metadata": {
    "id": "eMOVYQ-fpSVc"
   },
   "source": [
    "## 컬럼명과 값 형태로 되어 있는 테이블만 사용"
   ]
  },
  {
   "cell_type": "code",
   "execution_count": null,
   "metadata": {},
   "outputs": [],
   "source": [
    "# 수집한 정보를 item_info에 list 형태로 관리합니다.\n",
    "# item_info = []"
   ]
  },
  {
   "cell_type": "code",
   "execution_count": null,
   "metadata": {},
   "outputs": [],
   "source": [
    "# 가장 최근의 주요재무정보를 가져와서 item_info 라는 변수에 담습니다.\n",
    "# finance_info"
   ]
  },
  {
   "cell_type": "code",
   "execution_count": null,
   "metadata": {
    "id": "NWylba2PpSVc"
   },
   "outputs": [],
   "source": [
    "# tables을 반복문으로 돌며 컬럼의 수가 2인 테이블만 따로 추출해 \n",
    "# 위에서 만든 item_info 에 리스트 형태로 추가합니다.\n"
   ]
  },
  {
   "cell_type": "code",
   "execution_count": null,
   "metadata": {
    "id": "daNwwV1lpSVc"
   },
   "outputs": [],
   "source": [
    "# 위에서 만든 리스트의 값을 확인합니다.\n"
   ]
  },
  {
   "cell_type": "markdown",
   "metadata": {
    "id": "Z6x2p1XypSVc"
   },
   "source": [
    "## concat을 통해 데이터를 병합\n",
    "\n",
    "* concat과 merge의 차이\n",
    "    * concat :  \n",
    "        * axis=0 행을 기준으로 위아래로 같은 컬럼끼리 값을 이어 붙여 새로운 행을 만듦\n",
    "        * axis=1 컬럼을 기준으로 인덱스가 같은 값을 옆으로 붙여 새로운 컬럼을 만듦\n",
    "    * merge :\n",
    "        * index 혹은 특정 컬럼 값을 기준으로 두 개의 데이터프레임을 연결\n",
    "\n",
    "<img src=\"https://pandas.pydata.org/pandas-docs/stable/_images/merging_concat_keys.png\">"
   ]
  },
  {
   "cell_type": "code",
   "execution_count": null,
   "metadata": {},
   "outputs": [],
   "source": [
    "# item_info[0] 의 컬럼명을 봅니다. 같은 컬럼이 아니면 행끼리 합칠 수 없습니다.\n"
   ]
  },
  {
   "cell_type": "code",
   "execution_count": null,
   "metadata": {
    "id": "4Hd9PBoFpSVc"
   },
   "outputs": [],
   "source": [
    "# concat을 이용하여 item_info를 하나의 DataFrame으로 만듭니다.\n",
    "# df_item"
   ]
  },
  {
   "cell_type": "markdown",
   "metadata": {
    "id": "7R7c2d3ppSVc"
   },
   "source": [
    "## transpose를 통해 행과 열의 위치를 변경"
   ]
  },
  {
   "cell_type": "code",
   "execution_count": null,
   "metadata": {},
   "outputs": [],
   "source": []
  },
  {
   "cell_type": "code",
   "execution_count": null,
   "metadata": {
    "id": "tUp-hTXZpSVc",
    "scrolled": true
   },
   "outputs": [],
   "source": [
    "# transpose는 .transpose() 혹은  .T 로 사용해 보실 수 있습니다.\n"
   ]
  },
  {
   "cell_type": "markdown",
   "metadata": {
    "id": "NUuOcGZbpSVc"
   },
   "source": [
    "## 개별 주가 정보를 수집하는 함수를 생성"
   ]
  },
  {
   "cell_type": "code",
   "execution_count": null,
   "metadata": {
    "id": "4Qo2qU_HpSVc"
   },
   "outputs": [],
   "source": [
    "# 위에서 한 종목코드에 대해 개별 주가 정보를 얻는 방법을 확인하였으니,\n",
    "# 같은 방법으로 모든 종목코드의 주가 정보를 추출합니다.\n",
    "# 무리한 네트워크 요청은 서버에 부담을 줍니다. \n",
    "# sleep을 사용해서 서버에 무리한 요청을 하지 않습니다.\n",
    "# import time\n",
    "\n",
    "# def get_item_info(item_code):"
   ]
  },
  {
   "cell_type": "code",
   "execution_count": null,
   "metadata": {
    "id": "z6bpZx4upSVc"
   },
   "outputs": [],
   "source": [
    "# 데이터프레임 형태로 종목정보를 수집해 왔습니다.\n",
    "# 다른 종목도 아래와 같은 형태로 모아서 concat 으로 연결해 준다면 \n",
    "# 종목끼리 정보를 비교해 볼 수 있을것 같습니다.\n"
   ]
  },
  {
   "cell_type": "markdown",
   "metadata": {
    "id": "SQx8B2iupSVd"
   },
   "source": [
    "## tqdm은?\n",
    "* 오래 걸리는 작업의 진행 상태를 표시합니다.\n",
    "* https://tqdm.github.io/"
   ]
  },
  {
   "cell_type": "code",
   "execution_count": null,
   "metadata": {
    "id": "rkPkaDV8pSVd"
   },
   "outputs": [],
   "source": [
    "# tqdm은 total quality data management의 약자입니다.\n",
    "# tqdm.auto 에서 tqdm을 불러옵니다.\n",
    "# from tqdm.auto import tqdm\n",
    "# tqdm.pandas()"
   ]
  },
  {
   "cell_type": "code",
   "execution_count": null,
   "metadata": {
    "id": "KWDNC-R7pSVd"
   },
   "outputs": [],
   "source": [
    "# DataFrame의 종목코드 column에 있는 종목코드들값을 get_item_info 함수에 적용되어\n",
    "# result에 series형태로 저장됩니다.\n",
    "# result"
   ]
  },
  {
   "cell_type": "code",
   "execution_count": null,
   "metadata": {},
   "outputs": [],
   "source": [
    "result"
   ]
  },
  {
   "cell_type": "markdown",
   "metadata": {},
   "source": [
    "## concat 을 통한 데이터 프레임 합치기\n",
    "* 수집한 종목마다의 정보를 하나의 데이터프레임으로 만듭니다."
   ]
  },
  {
   "cell_type": "code",
   "execution_count": null,
   "metadata": {
    "id": "xuFeHo_RpSVd"
   },
   "outputs": [],
   "source": [
    "# result를 list로 만들고 concat을 통해 DataFrame으로 만듭니다.\n",
    "# concat으로 데이터프레임을 합쳐줄때는 리스트 형태로 각 데이터프레임을 넣어주어야 합니다.\n",
    "# df_item_info"
   ]
  },
  {
   "cell_type": "code",
   "execution_count": null,
   "metadata": {},
   "outputs": [],
   "source": []
  },
  {
   "cell_type": "code",
   "execution_count": null,
   "metadata": {
    "id": "kAqFjUXNSzZh"
   },
   "outputs": [],
   "source": [
    "# 합쳐줄 해당 종목/테마 데이터프레임을 봅니다.\n"
   ]
  },
  {
   "cell_type": "markdown",
   "metadata": {
    "id": "KHGtu04tpSVd"
   },
   "source": [
    "## merge 를 통한 데이터프레임 합치기\n",
    "* 업종/테마 목록과 개별 종목 정보를 수집한 데이터프레임을 합쳐줍니다."
   ]
  },
  {
   "cell_type": "code",
   "execution_count": null,
   "metadata": {},
   "outputs": [],
   "source": []
  },
  {
   "cell_type": "code",
   "execution_count": null,
   "metadata": {
    "id": "LwUqTFqmpSVd"
   },
   "outputs": [],
   "source": [
    "# DateFrame df와 df_item_info를 공통되는 column을 통해 합칩니다.\n",
    "# \"종목코드\" 컬럼이 두 데이터프레임에 있기 때문에 \"종목코드\" 컬럼을 기준으로 merge됩니다.\n",
    "# df_info"
   ]
  },
  {
   "cell_type": "code",
   "execution_count": null,
   "metadata": {
    "id": "dV3RGBsqpSVd"
   },
   "outputs": [],
   "source": [
    "# shape의 column수를 통해 데이터(종목코드)가 합쳐 졌음을 알 수 있습니다.\n",
    "# df, df_item_info, df_info 확인하기\n",
    "df.shape, df_item_info.shape, df_info.shape"
   ]
  },
  {
   "cell_type": "code",
   "execution_count": null,
   "metadata": {
    "id": "BgKt3j-tpSVd"
   },
   "outputs": [],
   "source": [
    "# 일부 데이터만 가져와서 확인합니다.\n"
   ]
  },
  {
   "cell_type": "markdown",
   "metadata": {
    "id": "JAwE_fFBpSVd"
   },
   "source": [
    "## 파일명 만들기"
   ]
  },
  {
   "cell_type": "code",
   "execution_count": null,
   "metadata": {
    "id": "4_wShqVEpSVd"
   },
   "outputs": [],
   "source": [
    "# 파일 이름을 url의 정보를 이용하여 만듭니다.\n",
    "# 업종_no_번호_날짜.csv, 혹은 테마_no_번호.csv 형태로 만듭니다.\n",
    "# file_name"
   ]
  },
  {
   "cell_type": "code",
   "execution_count": null,
   "metadata": {
    "id": "bS_wUocUpSVd"
   },
   "outputs": [],
   "source": [
    "# csv 파일로 저장합니다.\n"
   ]
  },
  {
   "cell_type": "code",
   "execution_count": null,
   "metadata": {
    "id": "s-AYqnfKpSVd"
   },
   "outputs": [],
   "source": [
    "# 제대로 저장되었는지 확인합니다.\n"
   ]
  },
  {
   "cell_type": "code",
   "execution_count": null,
   "metadata": {
    "id": "09kdQSIDpSVd"
   },
   "outputs": [],
   "source": []
  }
 ],
 "metadata": {
  "colab": {
   "collapsed_sections": [],
   "name": "4. 테마주 수집.ipynb",
   "provenance": []
  },
  "kernelspec": {
   "display_name": "Python 3",
   "language": "python",
   "name": "python3"
  },
  "language_info": {
   "codemirror_mode": {
    "name": "ipython",
    "version": 3
   },
   "file_extension": ".py",
   "mimetype": "text/x-python",
   "name": "python",
   "nbconvert_exporter": "python",
   "pygments_lexer": "ipython3",
   "version": "3.7.6"
  },
  "toc": {
   "base_numbering": 1,
   "nav_menu": {},
   "number_sections": true,
   "sideBar": true,
   "skip_h1_title": false,
   "title_cell": "Table of Contents",
   "title_sidebar": "Contents",
   "toc_cell": false,
   "toc_position": {
    "height": "calc(100% - 180px)",
    "left": "10px",
    "top": "150px",
    "width": "216.8px"
   },
   "toc_section_display": true,
   "toc_window_display": true
  },
  "varInspector": {
   "cols": {
    "lenName": 16,
    "lenType": 16,
    "lenVar": 40
   },
   "kernels_config": {
    "python": {
     "delete_cmd_postfix": "",
     "delete_cmd_prefix": "del ",
     "library": "var_list.py",
     "varRefreshCmd": "print(var_dic_list())"
    },
    "r": {
     "delete_cmd_postfix": ") ",
     "delete_cmd_prefix": "rm(",
     "library": "var_list.r",
     "varRefreshCmd": "cat(var_dic_list()) "
    }
   },
   "types_to_exclude": [
    "module",
    "function",
    "builtin_function_or_method",
    "instance",
    "_Feature"
   ],
   "window_display": false
  }
 },
 "nbformat": 4,
 "nbformat_minor": 1
}
