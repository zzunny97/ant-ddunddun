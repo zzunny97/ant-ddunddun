{
 "cells": [
  {
   "cell_type": "markdown",
   "metadata": {
    "id": "t3V7lAmnBYko"
   },
   "source": [
    "[![Open In Colab](https://colab.research.google.com/assets/colab-badge.svg)](https://colab.research.google.com/github/corazzon/finance-data-analysis/blob/main/4.3%20ETF%20%EB%B6%84%EC%84%9D%EA%B3%BC%20%EC%8B%9C%EA%B0%81%ED%99%94-input.ipynb)\n",
    "\n",
    "\n",
    "## ETF 분석과 시각화\n",
    "\n",
    "* keyword\n",
    "    * seaborn - barplot, boxplot, violinplot\n",
    "    * **seaborn PairGrid vs matplotlib - subplots**\n",
    "    * seaborn FacetGrid\n",
    "        * **catplot 범주형 데이터 시각화 (kind: count, bar, box, boxen, violin)**\n",
    "        * relplot 연속된 수치 데이터 시각화 (kind: scatter, line) <= KRX 전체 종목 분석에서 다룸\n",
    "    * pandas - value_counts, cross_tab, groupby, pivot_table\n",
    "  \n",
    "<img src=\"https://seaborn.pydata.org/_images/function_overview_8_0.png\">\n",
    "\n",
    "* seaborn 에 대해 좀 더 알고 싶다면 다음의 튜토리얼을 참고해 보세요.\n",
    "* [User guide and tutorial — seaborn documentation](https://seaborn.pydata.org/tutorial.html)\n",
    "\n",
    "\n",
    "\n",
    "* 특정 시점의 데이터를 저장해 분석합니다.\n",
    "* 분석하는 시점에 따라 내용이 달라지는 점에 유의하세요!\n",
    "* 내가 수집한 시점의 데이터를 분석하기 때문에 매일 분석한다면 일자별 리포트를 만들어 볼 수도 있을거에요.\n",
    "* [ETF : 네이버 금융](https://finance.naver.com/sise/etf.nhn)\n",
    "\n",
    "\n",
    "## ⚠️ 주의사항 ⚠️ \n",
    "*  분석내용은 데이터 수집 시점에 따라 달라집니다."
   ]
  },
  {
   "cell_type": "markdown",
   "metadata": {},
   "source": [
    "## 라이브러리 로드"
   ]
  },
  {
   "cell_type": "code",
   "execution_count": null,
   "metadata": {
    "id": "sUwAAMjsBYko"
   },
   "outputs": [],
   "source": [
    "# 필요한 도구를 로드합니다.\n",
    "# 데이터 분석을 위한 pandas, 수치계산을 위한 numpy, 시각화를 위한 seaborn, matplotlib\n"
   ]
  },
  {
   "cell_type": "code",
   "execution_count": null,
   "metadata": {},
   "outputs": [],
   "source": [
    "# seaborn 의 버전을 확인합니다. \n",
    "# 0.11.0 이상의 버전에서 변경된 내용이 많으니 0.11 이상의 버전을 사용해 주세요.\n",
    "sns.__version__"
   ]
  },
  {
   "cell_type": "code",
   "execution_count": null,
   "metadata": {},
   "outputs": [],
   "source": [
    "pd.__version__"
   ]
  },
  {
   "cell_type": "markdown",
   "metadata": {},
   "source": [
    "## 시각화를 위한 한글폰트 설정"
   ]
  },
  {
   "cell_type": "code",
   "execution_count": null,
   "metadata": {
    "id": "U_l0mgl04pJy"
   },
   "outputs": [],
   "source": [
    "def get_font_family():\n",
    "    \"\"\"\n",
    "    시스템 환경에 따른 기본 폰트명을 반환하는 함수\n",
    "    \"\"\"\n",
    "    import platform\n",
    "    system_name = platform.system()\n",
    "    # colab 사용자는 system_name이 'Linux'로 확인\n",
    "\n",
    "    if system_name == \"Darwin\" :\n",
    "        font_family = \"AppleGothic\"\n",
    "    elif system_name == \"Windows\":\n",
    "        font_family = \"Malgun Gothic\"\n",
    "    else:\n",
    "        # Linux\n",
    "        # colab에서는 runtime을 <꼭> 재시작 해야합니다.\n",
    "        # 런타임을 재시작 하지 않고 폰트 설치를 하면 기본 설정 폰트가 로드되어 한글이 깨집니다.\n",
    "        !apt-get update -qq\n",
    "        !apt-get install fonts-nanum -qq  > /dev/null\n",
    "\n",
    "        import matplotlib.font_manager as fm\n",
    "\n",
    "        fontpath = '/usr/share/fonts/truetype/nanum/NanumBarunGothic.ttf'\n",
    "        font = fm.FontProperties(fname=fontpath, size=9)\n",
    "        fm._rebuild()\n",
    "        font_family = \"NanumBarunGothic\"\n",
    "    return font_family"
   ]
  },
  {
   "cell_type": "code",
   "execution_count": null,
   "metadata": {},
   "outputs": [],
   "source": [
    "# 사용가능한 그래프 스타일\n",
    "print(plt.style.available)"
   ]
  },
  {
   "cell_type": "code",
   "execution_count": null,
   "metadata": {},
   "outputs": [],
   "source": [
    "# 운영체제에 맞는 font_family 찾기 \n"
   ]
  },
  {
   "cell_type": "code",
   "execution_count": null,
   "metadata": {
    "id": "U_l0mgl04pJy"
   },
   "outputs": [],
   "source": [
    "# 그래프 스타일 설정\n",
    "# plt.style.use(\"fivethirtyeight\")\n",
    "# plt.style.use(\"bmh\")\n",
    "\n",
    "# dark mode 사용자를 위한 스타일 추천\n",
    "# plt.style.use(\"dark_background\")\n",
    "\n",
    "\n",
    "# 폰트설정\n",
    "\n",
    "# 마이너스폰트 설정\n",
    "\n",
    "# 그래프에 retina display 적용\n"
   ]
  },
  {
   "cell_type": "code",
   "execution_count": null,
   "metadata": {
    "id": "HSMj_UaBHxHV"
   },
   "outputs": [],
   "source": [
    "# 한글폰트 확인\n"
   ]
  },
  {
   "cell_type": "markdown",
   "metadata": {},
   "source": [
    "## 데이터 로드"
   ]
  },
  {
   "cell_type": "code",
   "execution_count": null,
   "metadata": {
    "id": "cyivYjVFBYkp"
   },
   "outputs": [],
   "source": [
    "# 이전 수업에서 수집해서 저장해둔 csv 파일을 읽어옵니다.\n",
    "# itemcode 숫자 앞의 0 이 지워진다면 \n",
    "# dtype={\"종목코드\": np.object} 로 타입을 지정해 주면 문자형태로 읽어옵니다.\n",
    "# df\n"
   ]
  },
  {
   "cell_type": "code",
   "execution_count": null,
   "metadata": {
    "id": "VgCji4_wBYkp"
   },
   "outputs": [],
   "source": [
    "# 인덱스 번호 상단 5개의 데이터를 가져옵니다.\n",
    "# 제대로 read되었는지 각 column정보들을 확인합니다.\n"
   ]
  },
  {
   "cell_type": "code",
   "execution_count": null,
   "metadata": {
    "id": "sFWU55-NBYkp"
   },
   "outputs": [],
   "source": [
    "# 인덱스 하단의 5개 데이터를 가져옵니다.\n",
    "# 데이터가 제대로 로드되었는지 확인합니다.\n"
   ]
  },
  {
   "cell_type": "code",
   "execution_count": null,
   "metadata": {
    "id": "LxSJgh3rBYkq"
   },
   "outputs": [],
   "source": [
    "# info를 통해서 각 column들의 데이터타입과 결측치, 메모리 사용량 등을 볼 수 있습니다.\n"
   ]
  },
  {
   "cell_type": "markdown",
   "metadata": {},
   "source": [
    "## 결측치 확인"
   ]
  },
  {
   "cell_type": "code",
   "execution_count": null,
   "metadata": {},
   "outputs": [],
   "source": [
    "(True + True + False) / 3"
   ]
  },
  {
   "cell_type": "code",
   "execution_count": null,
   "metadata": {
    "id": "pV1tUeTDBYkr"
   },
   "outputs": [],
   "source": [
    "# 결측치를 확인합니다.\n"
   ]
  },
  {
   "cell_type": "code",
   "execution_count": null,
   "metadata": {
    "id": "90vBW0FdWdWK"
   },
   "outputs": [],
   "source": [
    "# 결측치의 비율을 봅니다.\n"
   ]
  },
  {
   "cell_type": "code",
   "execution_count": null,
   "metadata": {},
   "outputs": [],
   "source": [
    "# heatmap을 통한 결측치 시각화\n"
   ]
  },
  {
   "cell_type": "markdown",
   "metadata": {
    "id": "cwVx0sksYyOq"
   },
   "source": [
    "## 범주형 데이터의 빈도수\n",
    "### 범주형 변수 찾기"
   ]
  },
  {
   "cell_type": "code",
   "execution_count": null,
   "metadata": {},
   "outputs": [],
   "source": [
    "# describe를 통해 범주형 변수에 대한 기술통계 값을 구하기\n"
   ]
  },
  {
   "cell_type": "code",
   "execution_count": null,
   "metadata": {},
   "outputs": [],
   "source": [
    "# unique(중복을 제외한 값)에 대한 빈도수 구하기\n",
    "# object type 이 아니더라도 nunique 값이 작다면 범주형 변수인지 확인해 봅니다.\n"
   ]
  },
  {
   "cell_type": "markdown",
   "metadata": {
    "id": "cwVx0sksYyOq"
   },
   "source": [
    "### ETF 상품 유형별 빈도수(한 개의 변수)"
   ]
  },
  {
   "cell_type": "code",
   "execution_count": null,
   "metadata": {
    "id": "WTM1Y0xmBYkr",
    "scrolled": true
   },
   "outputs": [],
   "source": [
    "# df[\"유형\"].value_counts() 의 결과와 같게 시각화 할 수 있습니다.\n"
   ]
  },
  {
   "cell_type": "code",
   "execution_count": null,
   "metadata": {},
   "outputs": [],
   "source": [
    "# sns.countplot 으로 빈도수를 시각화 합니다.\n"
   ]
  },
  {
   "cell_type": "code",
   "execution_count": null,
   "metadata": {
    "id": "plmwbalqbBKR"
   },
   "outputs": [],
   "source": [
    "# value_counts 로 빈도수를 직접 계산합니다.\n"
   ]
  },
  {
   "cell_type": "code",
   "execution_count": null,
   "metadata": {},
   "outputs": [],
   "source": [
    "# value_counts(normalize=True) 로 빈도수의 비율을 구합니다.\n"
   ]
  },
  {
   "cell_type": "markdown",
   "metadata": {},
   "source": [
    "### 두 개의 변수 빈도수와 비율"
   ]
  },
  {
   "cell_type": "code",
   "execution_count": null,
   "metadata": {
    "id": "_cheYlGLBYkr"
   },
   "outputs": [],
   "source": [
    "# 유형 컬럼의 빈도수를 봅니다.\n",
    "# seaborn countplot의 hue를 이용하여 인버스여부에 따라 다른 색상으로 표시해 봅니다.\n"
   ]
  },
  {
   "cell_type": "code",
   "execution_count": null,
   "metadata": {
    "id": "5SHkrQN4BYkr",
    "scrolled": true
   },
   "outputs": [],
   "source": [
    "# pandas crosstab을 이용하여 위 그래프의 수치를 확인 할 수 있습니다.\n",
    "# seaborn 은 아래와 같은 연산을 하지 않더라도 알아서 통계적 연산을 시각화 해줍니다.\n"
   ]
  },
  {
   "cell_type": "code",
   "execution_count": null,
   "metadata": {},
   "outputs": [],
   "source": [
    "# value_counts 처럼 normalize 를 사용해 비율을 구할 수도 있습니다.\n"
   ]
  },
  {
   "cell_type": "code",
   "execution_count": null,
   "metadata": {
    "id": "nd7lF14FBYkr"
   },
   "outputs": [],
   "source": [
    "# 동일하게 유형 데이터를 레버리지 여부에 따라 그립니다.\n"
   ]
  },
  {
   "cell_type": "code",
   "execution_count": null,
   "metadata": {
    "id": "uYFXmykEBYkr"
   },
   "outputs": [],
   "source": [
    "# 레버리지, 유형에 대한 빈도수를 구힙니다.\n"
   ]
  },
  {
   "cell_type": "code",
   "execution_count": null,
   "metadata": {},
   "outputs": [],
   "source": [
    "# 레버리지, 유형에 대한 빈도수의 비율을 구합니다.\n"
   ]
  },
  {
   "cell_type": "markdown",
   "metadata": {
    "id": "PwvZpYS3bI4b"
   },
   "source": [
    "### 브랜드별 빈도수"
   ]
  },
  {
   "cell_type": "code",
   "execution_count": null,
   "metadata": {
    "id": "H3QD5dbCbmor"
   },
   "outputs": [],
   "source": [
    "# 브랜드별 ETF 빈도수\n"
   ]
  },
  {
   "cell_type": "code",
   "execution_count": null,
   "metadata": {},
   "outputs": [],
   "source": []
  },
  {
   "cell_type": "markdown",
   "metadata": {},
   "source": [
    "### 인버스, 브랜드의 ETF 빈도 비율\n",
    "\n",
    "\n",
    "* 인버스 ETF란? 주식관련 장내 외 파생상품 투자 및 증권차입매도 등을 통해 기초지수(KOSPI 200지수)의 일일 변동률(일별수익률)을 음의 1배수 즉, 역방향으로 추적하는 ETF를 말한다. 예를 들어, KOSPI 200지수가 1% 상승할 경우 인버스 ETF는 마이너스 1% 수익률, 반대로 KOSPI 200 지수가 1% 하락시 인버스 ETF는 플러스 1%의 수익률을 목표로 운영된다.\n",
    "[네이버 지식백과] 인버스ETF (매일경제, 매경닷컴)\n",
    "* 출처 : https://terms.naver.com/entry.nhn?docId=20336&cid=43659&categoryId=43659"
   ]
  },
  {
   "cell_type": "code",
   "execution_count": null,
   "metadata": {
    "id": "0WcpnEmVBYkr"
   },
   "outputs": [],
   "source": [
    "# 브랜드 column의 빈도수를 인버스에 따른 구분으로 그려봅니다.\n"
   ]
  },
  {
   "cell_type": "code",
   "execution_count": null,
   "metadata": {
    "id": "BqTooLGSBYkr"
   },
   "outputs": [],
   "source": [
    "# 인버스, 브랜드의 금융상품 빈도수\n"
   ]
  },
  {
   "cell_type": "code",
   "execution_count": null,
   "metadata": {},
   "outputs": [],
   "source": [
    "# 인버스, 브랜드의 금융상품 빈도 비율\n",
    "# in_brand_norm\n"
   ]
  },
  {
   "cell_type": "markdown",
   "metadata": {},
   "source": [
    "### 레버리지, 브랜드의 ETF 빈도 비율\n",
    "* 레버리지 ETF란? 일반 ETF가 코스피200과 같은 지수 내 대표 주식을 보유함으로써 지수와 비슷한 수익률을 내는 것을 목표로 하는 데 비해 레버리지ETF는 선물 등 파생상품에 투자해 지수보다 높은 수익을 추구하는 ETF다. 상승장에서는 높은 수익률을 기대할 수 있지만 하락장에서는 손실도 커져 고위험ㆍ고수익 상품으로 분류된다.\n",
    "[네이버 지식백과] 레버리지 ETF (매일경제, 매경닷컴)\n",
    "* 출처 : https://terms.naver.com/entry.nhn?docId=2059802&cid=43659&categoryId=43659"
   ]
  },
  {
   "cell_type": "code",
   "execution_count": null,
   "metadata": {
    "id": "QH4gnSxbBYkr"
   },
   "outputs": [],
   "source": [
    "# 브랜드별 레버리지 여부에 따른 빈도수를 시각화 합니다.\n"
   ]
  },
  {
   "cell_type": "code",
   "execution_count": null,
   "metadata": {
    "id": "FJikD4WyBYkr"
   },
   "outputs": [],
   "source": [
    "# 레버리지, 브랜드의 ETF 빈도수(crosstab)\n"
   ]
  },
  {
   "cell_type": "code",
   "execution_count": null,
   "metadata": {},
   "outputs": [],
   "source": [
    "# 레버리지, 브랜드의 ETF 빈도수(crosstab)\n"
   ]
  },
  {
   "cell_type": "code",
   "execution_count": null,
   "metadata": {},
   "outputs": [],
   "source": [
    "# 레버리지, 브랜드의 ETF 비율\n"
   ]
  },
  {
   "cell_type": "markdown",
   "metadata": {},
   "source": [
    "## 수치형 변수의 기술통계"
   ]
  },
  {
   "cell_type": "code",
   "execution_count": null,
   "metadata": {},
   "outputs": [],
   "source": [
    "# describe로 수치형 변수의 기술통계 구하기\n",
    "# desc\n"
   ]
  },
  {
   "cell_type": "markdown",
   "metadata": {},
   "source": [
    "## 수치형 변수로 히스토그램 그리기\n",
    "\n",
    "* 연속된 수치 데이터를 범주형 데이터로 표현, bucketing 이라고 부르기도 함\n",
    "* 히스토그램 : 도수분포를 그래프 형태로 표현한 것\n",
    "* 막대그래프와 비슷해 보이지만 다른 그래프\n",
    "* 참고 : [히스토그램 - 위키백과, 우리 모두의 백과사전](https://ko.wikipedia.org/wiki/%ED%9E%88%EC%8A%A4%ED%86%A0%EA%B7%B8%EB%9E%A8)"
   ]
  },
  {
   "cell_type": "code",
   "execution_count": null,
   "metadata": {},
   "outputs": [],
   "source": [
    "# 수치형 컬럼만 리스트로 만들기\n",
    "# num_cols\n"
   ]
  },
  {
   "cell_type": "code",
   "execution_count": null,
   "metadata": {},
   "outputs": [],
   "source": [
    "# 히스토그램을 그려보면 수치 데이터로 되어있지만 범주형 데이터를 찾아볼 수 있습니다.\n"
   ]
  },
  {
   "cell_type": "markdown",
   "metadata": {
    "id": "QaXho5-IbQjG"
   },
   "source": [
    "## 범주형 vs 수치형 변수\n",
    "### seaborn의 barplot 이해하기"
   ]
  },
  {
   "cell_type": "code",
   "execution_count": null,
   "metadata": {
    "id": "0ljdACTbBYks"
   },
   "outputs": [],
   "source": [
    "# seaborn의 bar chart를 이용하여 각 브랜드에 대한 3개월수익률의 평균값을 볼 수 있습니다.\n",
    "# 검은색 막대는 ci로 신뢰구간을 의미합니다.\n"
   ]
  },
  {
   "cell_type": "markdown",
   "metadata": {},
   "source": [
    "### barplot 그래프의 값을 groupby 로 직접 구하기"
   ]
  },
  {
   "cell_type": "code",
   "execution_count": null,
   "metadata": {},
   "outputs": [],
   "source": [
    "# 위 그래프의 평균 값을 직접 계산을 통해 구해 봅니다.\n",
    "# brand_3month_mean\n"
   ]
  },
  {
   "cell_type": "code",
   "execution_count": null,
   "metadata": {},
   "outputs": [],
   "source": [
    "# 위에서 구한 그룹(브랜드)별 평균 3개월 수익률을 그래프로 표현합니다.\n"
   ]
  },
  {
   "cell_type": "code",
   "execution_count": null,
   "metadata": {
    "id": "p8mI5B90BYks"
   },
   "outputs": [],
   "source": [
    "# 브랜드가 마인티인 경우의 데이터를 확인합니다.\n"
   ]
  },
  {
   "cell_type": "code",
   "execution_count": null,
   "metadata": {
    "id": "lAsyQd2ZBYks"
   },
   "outputs": [],
   "source": [
    "# 브랜드 대비 3개월수익률에 대한 정보를 레버리지 값의 차이를 barplot으로 봅니다.\n",
    "# 레버리지 유/무에 따라서 평균 3개월 수익률은 많은 차이가 없지만,\n",
    "# 표준편차의 경우 레버리지가 있을경우 굉장히 편차(ci=\"sd\")가 심함을 알 수 있습니다.\n",
    "# 레버리지 상품은 오를 때 더 많이 오르고 내릴 때 더 많이 내립니다.\n"
   ]
  },
  {
   "cell_type": "markdown",
   "metadata": {},
   "source": [
    "* [Styling — pandas documentation](https://pandas.pydata.org/pandas-docs/stable/user_guide/style.html)"
   ]
  },
  {
   "cell_type": "code",
   "execution_count": null,
   "metadata": {},
   "outputs": [],
   "source": [
    "# 위에서 그린 그래프의 값을 groupby로 구합니다.\n"
   ]
  },
  {
   "cell_type": "markdown",
   "metadata": {},
   "source": [
    "### boxplot으로 그리기\n",
    "\n",
    "#### 기술통계 용어\n",
    "\n",
    "* 백분위 수 : 데이터를 백등분 한 것\n",
    "* 사분위 수 : 데이터를 4등분 한 것\n",
    "* 중위수 : 데이터의 정 가운데 순위에 해당하는 값.(관측치의 절반은 크거나 같고 나머지 절반은 작거나 같다.)\n",
    "* 제 3사분위 수 (Q3) : 중앙값 기준으로 상위 50% 중의 중앙값, 전체 데이터 중 상위 25%에 해당하는 값\n",
    "* 제 1사분위 수 (Q1) : 중앙값 기준으로 하위 50% 중의 중앙값, 전체 데이터 중 하위 25%에 해당하는 값\n",
    "* 사분위 범위 수(IQR) : 데이터의 중간 50% (Q3 - Q1)\n",
    "\n",
    "* 출처 : [상자 수염 그림 - 위키백과, 우리 모두의 백과사전](https://ko.wikipedia.org/wiki/%EC%83%81%EC%9E%90_%EC%88%98%EC%97%BC_%EA%B7%B8%EB%A6%BC)"
   ]
  },
  {
   "cell_type": "code",
   "execution_count": null,
   "metadata": {},
   "outputs": [],
   "source": [
    "# 브랜드별 3개월 수익률을 레버리지에 따라 다른 색상으로 시각화 합니다.\n"
   ]
  },
  {
   "cell_type": "markdown",
   "metadata": {},
   "source": [
    "#### boxplot 보는 방법\n",
    "\n",
    "* 사분위수 범위(IQR, Interquartile range, Q3-Q1)\n",
    "* 이상치를 제외한 최댓값  = Q3 + 1.5IQR\n",
    "* 이상치를 제외한 최솟값  = Q1 - 1.5IQR\n",
    "\n",
    "### 3개월 수익률에 대한 기술통계 값 구하기"
   ]
  },
  {
   "cell_type": "code",
   "execution_count": null,
   "metadata": {},
   "outputs": [],
   "source": [
    "# 위에서 그린 boxplot의 값을 직접 구해봅니다.\n",
    "# brand_3month_desc\n"
   ]
  },
  {
   "cell_type": "markdown",
   "metadata": {},
   "source": [
    "<img src=\"https://miro.medium.com/max/1400/1*NRlqiZGQdsIyAu0KzP7LaQ.png\" width=\"400\">\n",
    "\n",
    "* 이미지 출처 : https://towardsdatascience.com/understanding-boxplots-5e2df7bcbd51"
   ]
  },
  {
   "cell_type": "markdown",
   "metadata": {},
   "source": [
    "### KODEX ETF 따로 분석하기\n",
    "\n",
    "* ⚠️ 주의사항 ⚠️  분석내용은 데이터 수집 시점에 따라 달라집니다."
   ]
  },
  {
   "cell_type": "code",
   "execution_count": null,
   "metadata": {},
   "outputs": [],
   "source": [
    "# KODEX 서브셋을 만듭니다.\n"
   ]
  },
  {
   "cell_type": "code",
   "execution_count": null,
   "metadata": {},
   "outputs": [],
   "source": []
  },
  {
   "cell_type": "code",
   "execution_count": null,
   "metadata": {},
   "outputs": [],
   "source": [
    "# KODEX 의 boxplot을 그립니다.\n"
   ]
  },
  {
   "cell_type": "code",
   "execution_count": null,
   "metadata": {},
   "outputs": [],
   "source": [
    "# KODEX 의 boxenplot을 그립니다.\n"
   ]
  },
  {
   "cell_type": "code",
   "execution_count": null,
   "metadata": {},
   "outputs": [],
   "source": [
    "# KODEX 의 historam 을 pandas로 그립니다.\n"
   ]
  },
  {
   "cell_type": "code",
   "execution_count": null,
   "metadata": {},
   "outputs": [],
   "source": [
    "# KODEX 의 kdeplot 을 그립니다.\n"
   ]
  },
  {
   "cell_type": "code",
   "execution_count": null,
   "metadata": {},
   "outputs": [],
   "source": [
    "# KODEX 의 violinplot 을 그립니다.\n"
   ]
  },
  {
   "cell_type": "code",
   "execution_count": null,
   "metadata": {},
   "outputs": [],
   "source": [
    "# KODEX 의 violinplot 에 hue=\"레버리지\"로 그립니다.\n"
   ]
  },
  {
   "cell_type": "code",
   "execution_count": null,
   "metadata": {},
   "outputs": [],
   "source": [
    "# KODEX 의 violinplot 에 hue=\"레버리지\"를 split 옵션을 사용해 그립니다.\n"
   ]
  },
  {
   "cell_type": "code",
   "execution_count": null,
   "metadata": {},
   "outputs": [],
   "source": [
    "# KODEX 의 violinplot 에 hue=\"인버스\"로 그립니다.\n"
   ]
  },
  {
   "cell_type": "markdown",
   "metadata": {},
   "source": [
    "* 이미지 출처 : [The Datasaurus Dozen - Same Stats, Different Graphs | Autodesk Research](https://www.autodeskresearch.com/publications/samestats)\n",
    "\n",
    "<img src=\"https://d2f99xq7vri1nk.cloudfront.net/BoxViolinSmaller.gif\">\n",
    "\n",
    "### 브랜드별 3개월수익률"
   ]
  },
  {
   "cell_type": "code",
   "execution_count": null,
   "metadata": {},
   "outputs": [],
   "source": [
    "# boxenplot 을 통해 브랜드별 3개월 수익률을 시각화 합니다.\n"
   ]
  },
  {
   "cell_type": "code",
   "execution_count": null,
   "metadata": {},
   "outputs": [],
   "source": [
    "# violinplot은 kdeplot을 마주보도록 그린 그래프로 값의 분포를 알 수 있습니다.\n",
    "# boxplot의 단점을 보완하기 위해 만들어지기도 했는데 내부에 boxplot을 함께 그려줍니다.\n",
    "# 가운데 점은 중앙값을 의미합니다.\n"
   ]
  },
  {
   "cell_type": "markdown",
   "metadata": {},
   "source": [
    "### 서브플롯 그려보기"
   ]
  },
  {
   "cell_type": "code",
   "execution_count": null,
   "metadata": {},
   "outputs": [],
   "source": [
    "# boxplot과 violinplot을 하나의 그래프에 같이 그려봅니다.\n"
   ]
  },
  {
   "cell_type": "code",
   "execution_count": null,
   "metadata": {
    "id": "_SQRf13ZBYks"
   },
   "outputs": [],
   "source": [
    "# violinplot은 kdeplot을 마주보도록 그린 그래프로 값의 분포를 알 수 있습니다.\n",
    "# boxplot의 단점을 보완하기 위해 만들어지기도 했는데 내부에 boxplot을 함께 그려줍니다.\n",
    "# 가운데 점은 중앙값을 의미합니다.\n",
    "# 브랜드별 3개월수익률을 레버리지 여부에 따라 그려봅니다.\n"
   ]
  },
  {
   "cell_type": "code",
   "execution_count": null,
   "metadata": {
    "id": "RL8IsWH3BYks"
   },
   "outputs": [],
   "source": [
    "# 브랜드별 3개월수익률을 인버스 여부에 따라 그려봅니다.\n"
   ]
  },
  {
   "cell_type": "markdown",
   "metadata": {},
   "source": [
    "### 브랜드별 거래량"
   ]
  },
  {
   "cell_type": "code",
   "execution_count": null,
   "metadata": {
    "id": "mFE8qxq-BYks"
   },
   "outputs": [],
   "source": [
    "# 수집한 날짜에 대한 브랜드별 거래량을 봅니다.\n"
   ]
  },
  {
   "cell_type": "code",
   "execution_count": null,
   "metadata": {},
   "outputs": [],
   "source": [
    "# df[df[\"브랜드\"].isin([\"TIGER\", \"KBSTAR\", \"KINDEX\"])]"
   ]
  },
  {
   "cell_type": "code",
   "execution_count": null,
   "metadata": {
    "id": "3HHvJP4_BYks"
   },
   "outputs": [],
   "source": [
    "# 전체 브랜드를 보면 값의 크기 차이로 시각화를 제대로 보기 어렵습니다.\n",
    "# 일부 브랜드 \"TIGER\", \"KBSTAR\", \"KINDEX\" 를 따로 가져와서 시각화 합니다.\n"
   ]
  },
  {
   "cell_type": "code",
   "execution_count": null,
   "metadata": {},
   "outputs": [],
   "source": []
  },
  {
   "cell_type": "code",
   "execution_count": null,
   "metadata": {},
   "outputs": [],
   "source": []
  },
  {
   "cell_type": "code",
   "execution_count": null,
   "metadata": {},
   "outputs": [],
   "source": [
    "# \"마이티\", \"마이다스\", \"흥국\" 만 봅니다.\n"
   ]
  },
  {
   "cell_type": "code",
   "execution_count": null,
   "metadata": {},
   "outputs": [],
   "source": [
    "# \"마이티\", \"마이다스\", \"흥국\" 의 기술통계 값 보기\n"
   ]
  },
  {
   "cell_type": "markdown",
   "metadata": {},
   "source": [
    "### 유형에 따른 거래량"
   ]
  },
  {
   "cell_type": "code",
   "execution_count": null,
   "metadata": {
    "id": "j4t7IIRFBYks"
   },
   "outputs": [],
   "source": [
    "# 유형에 따른 평균 거래량을 barplot으로 시각화 합니다.\n"
   ]
  },
  {
   "cell_type": "code",
   "execution_count": null,
   "metadata": {},
   "outputs": [],
   "source": [
    "# 위 그래프의 유형에 따른 평균 거래량을 직접 groupby를 통해 구합니다.\n"
   ]
  },
  {
   "cell_type": "markdown",
   "metadata": {},
   "source": [
    "### 유형에 따른 거래대금"
   ]
  },
  {
   "cell_type": "code",
   "execution_count": null,
   "metadata": {
    "id": "_BuMyb0JBYks"
   },
   "outputs": [],
   "source": [
    "# 위 그래프의 유형에 따른 평균 거래대금(백만)을 barplot 으로 그립니다.\n"
   ]
  },
  {
   "cell_type": "code",
   "execution_count": null,
   "metadata": {},
   "outputs": [],
   "source": [
    "# 위 그래프의 유형에 따른 평균 거래대금(백만)을 직접 groupby를 통해 구합니다.\n"
   ]
  },
  {
   "cell_type": "code",
   "execution_count": null,
   "metadata": {},
   "outputs": [],
   "source": [
    "# 위 그래프의 유형에 따른 평균 거래대금(백만)을 직접 pivot_table을 통해 구합니다.\n"
   ]
  },
  {
   "cell_type": "markdown",
   "metadata": {},
   "source": [
    "### 유형에 따른 시가총액"
   ]
  },
  {
   "cell_type": "code",
   "execution_count": null,
   "metadata": {
    "id": "nU1CQqWwBYks"
   },
   "outputs": [],
   "source": [
    "# 유형에 따른 평균 시가총액(억) 에 대한 시각화를 합니다.\n"
   ]
  },
  {
   "cell_type": "code",
   "execution_count": null,
   "metadata": {},
   "outputs": [],
   "source": [
    "# 위 그래프의 유형에 따른 평균 시가총액(억)을 직접 groupby를 통해 구합니다.\n"
   ]
  },
  {
   "cell_type": "code",
   "execution_count": null,
   "metadata": {},
   "outputs": [],
   "source": [
    "# 위 그래프의 유형에 따른 평균 시가총액(억)을 직접 pivot_table을 통해 구합니다.\n"
   ]
  },
  {
   "cell_type": "markdown",
   "metadata": {},
   "source": [
    "### 유형에 따른 3개월 수익률"
   ]
  },
  {
   "cell_type": "code",
   "execution_count": null,
   "metadata": {
    "id": "Yu_bGCbxBYks"
   },
   "outputs": [],
   "source": [
    "# 유형에 따른 평균 3개월수익률에 대한 시각화를 합니다.\n"
   ]
  },
  {
   "cell_type": "code",
   "execution_count": null,
   "metadata": {},
   "outputs": [],
   "source": [
    "# 위 그래프의 유형에 따른 평균 3개월수익률을 직접 groupby를 통해 구합니다.\n"
   ]
  },
  {
   "cell_type": "code",
   "execution_count": null,
   "metadata": {},
   "outputs": [],
   "source": [
    "# 위 그래프의 유형에 따른 평균 3개월수익률을 직접 pivot_table을 통해 구합니다.\n"
   ]
  },
  {
   "cell_type": "markdown",
   "metadata": {},
   "source": [
    "## 여러 개의 변수로 서브플롯 그리기\n",
    "### PairGrid와 barplot 으로 서브플롯 그리기\n",
    "\n",
    "\n",
    "* PairGrid는 한번에 서브플롯을 쉽게 그려볼 수 있는 장점이 있지만 아쉽게도 share axis in PairGrid는 지원하지 않고 있습니다.\n",
    "* 참고 : https://github.com/mwaskom/seaborn/issues/1032"
   ]
  },
  {
   "cell_type": "code",
   "execution_count": null,
   "metadata": {
    "id": "jvBYpEs9BYks"
   },
   "outputs": [],
   "source": [
    "# PairGrid 와 barplot을 한번에 서브플롯으로 그립니다.\n",
    "# 유형에 따른 \"거래량\", \"거래대금(백만)\", \"시가총액(억)\", \"3개월수익률\" 에 대한 시각화를 합니다.\n"
   ]
  },
  {
   "cell_type": "markdown",
   "metadata": {},
   "source": [
    "### subplots를 통한 시각화"
   ]
  },
  {
   "cell_type": "code",
   "execution_count": null,
   "metadata": {},
   "outputs": [],
   "source": [
    "row_cols = [\"거래량\", \"거래대금(백만)\", \"시가총액(억)\", \"3개월수익률\"]"
   ]
  },
  {
   "cell_type": "code",
   "execution_count": null,
   "metadata": {},
   "outputs": [],
   "source": []
  },
  {
   "cell_type": "code",
   "execution_count": null,
   "metadata": {},
   "outputs": [],
   "source": [
    "# 위 그래프를 직접 subplots 를 사용해 그려봅니다.\n"
   ]
  },
  {
   "cell_type": "code",
   "execution_count": null,
   "metadata": {},
   "outputs": [],
   "source": [
    "# 브랜드별 수치 데이터의 평균을 시각화 합니다.\n"
   ]
  },
  {
   "cell_type": "markdown",
   "metadata": {},
   "source": [
    "### 브랜드별 인버스 여부에 따른 시각화"
   ]
  },
  {
   "cell_type": "code",
   "execution_count": null,
   "metadata": {
    "id": "tRZD8j1oBYks"
   },
   "outputs": [],
   "source": [
    "# subplots를 시각화 합니다. hue=\"인버스\"를 적용해 봅니다.\n"
   ]
  },
  {
   "cell_type": "markdown",
   "metadata": {
    "id": "P_HR7zC-BYks"
   },
   "source": [
    "### 브랜드별 레버리지 여부에 따른 시각화"
   ]
  },
  {
   "cell_type": "code",
   "execution_count": null,
   "metadata": {
    "id": "P_HR7zC-BYks"
   },
   "outputs": [],
   "source": [
    "# subplots를 시각화 합니다. hue=\"레버리지\"를 적용해 봅니다.\n"
   ]
  },
  {
   "cell_type": "code",
   "execution_count": null,
   "metadata": {},
   "outputs": [],
   "source": [
    "# 위에서 그린 서브플롯을 직접 groupby 로 구해봅니다.\n"
   ]
  },
  {
   "cell_type": "markdown",
   "metadata": {},
   "source": [
    "### 유형에 따른 3개월 수익률 boxplot \n",
    "* barplot으로 그렸을 때 보이지 않던 데이터의 빈도수와 데이터의 분포를 확인할 수 있습니다.\n"
   ]
  },
  {
   "cell_type": "code",
   "execution_count": null,
   "metadata": {},
   "outputs": [],
   "source": [
    "# boxplot 으로 x축에 \"유형\" y축에 \"3개월수익률\" 을 그려봅니다.\n"
   ]
  },
  {
   "cell_type": "code",
   "execution_count": null,
   "metadata": {},
   "outputs": [],
   "source": [
    "# boxplot의 유형에 따른 3개월 수익률에 대한 기술통계 값을 구합니다.\n"
   ]
  },
  {
   "cell_type": "markdown",
   "metadata": {},
   "source": [
    "### subplots 로 유형에 대한 boxplot 그리기"
   ]
  },
  {
   "cell_type": "code",
   "execution_count": null,
   "metadata": {},
   "outputs": [],
   "source": []
  },
  {
   "cell_type": "code",
   "execution_count": null,
   "metadata": {},
   "outputs": [],
   "source": [
    "# subplots 를 통한 유형에 따른 수치데이터의 평균값 구하기\n"
   ]
  },
  {
   "cell_type": "code",
   "execution_count": null,
   "metadata": {
    "id": "-TUx89cHBYks"
   },
   "outputs": [],
   "source": [
    "# hue=\"레버리지\" 를 추가해서 그립니다.\n"
   ]
  },
  {
   "cell_type": "markdown",
   "metadata": {},
   "source": [
    "### subplots 로 유형에 대한  violinplot 그리기\n",
    "* boxplot으로 그렸을 때 박스 안의 분포를 좀 더 자세히 그려줍니다."
   ]
  },
  {
   "cell_type": "code",
   "execution_count": null,
   "metadata": {},
   "outputs": [],
   "source": [
    "# 유형에 따른 violinplot \n"
   ]
  },
  {
   "cell_type": "code",
   "execution_count": null,
   "metadata": {
    "id": "l-MtPVa_BYkt"
   },
   "outputs": [],
   "source": [
    "# 유형에 따른 violinplot 에 hue=\"레버리지\" 적용하기\n"
   ]
  },
  {
   "cell_type": "markdown",
   "metadata": {},
   "source": [
    "### PairGrid 를 통해 여러 변수의 violinplot 그리기"
   ]
  },
  {
   "cell_type": "code",
   "execution_count": null,
   "metadata": {
    "id": "B5eV7-ANBYkt"
   },
   "outputs": [],
   "source": [
    "# 브랜드에 따른 여러 수치변수의 violinplot 를 PairGrid로 그리기\n"
   ]
  },
  {
   "cell_type": "markdown",
   "metadata": {},
   "source": [
    "### subplots 로 브랜드에 대한 boxplot 그리기"
   ]
  },
  {
   "cell_type": "code",
   "execution_count": null,
   "metadata": {},
   "outputs": [],
   "source": [
    "# 브랜드에 따른 여러 수치변수의 boxplot 을 subplots으로 그리기 : hue=\"레버리지\"\n"
   ]
  },
  {
   "cell_type": "markdown",
   "metadata": {},
   "source": [
    "### subplots 로 브랜드에 대한 violinplot 그리기"
   ]
  },
  {
   "cell_type": "code",
   "execution_count": null,
   "metadata": {
    "id": "XC3E1WM0BYkt"
   },
   "outputs": [],
   "source": [
    "# 브랜드에 따른 여러 수치변수의 violinplot 을 subplots으로 그리기 : hue=\"레버리지\"\n",
    "\n"
   ]
  },
  {
   "cell_type": "markdown",
   "metadata": {},
   "source": [
    "## FacetGrid 를 통한 범주형 변수에 대한 서브플롯 그리기"
   ]
  },
  {
   "cell_type": "code",
   "execution_count": null,
   "metadata": {},
   "outputs": [],
   "source": [
    "# catplot 을 통한 브랜드별 3개월 수익률\n"
   ]
  },
  {
   "cell_type": "code",
   "execution_count": null,
   "metadata": {},
   "outputs": [],
   "source": [
    "# catplot 을 통한 브랜드별 3개월 수익률 : kind=\"bar\"\n"
   ]
  },
  {
   "cell_type": "code",
   "execution_count": null,
   "metadata": {},
   "outputs": [],
   "source": [
    "# catplot 을 통한 브랜드별 3개월 수익률 : kind=\"box\"\n"
   ]
  },
  {
   "cell_type": "code",
   "execution_count": null,
   "metadata": {},
   "outputs": [],
   "source": [
    "# catplot 을 통한 브랜드별 3개월 수익률 : kind=\"violin\"\n"
   ]
  },
  {
   "cell_type": "markdown",
   "metadata": {},
   "source": [
    "### 특정 범주형 변수에 대한 서브플롯 그리기 - catplot\n",
    "#### 브랜드 별 빈도수 - countplot"
   ]
  },
  {
   "cell_type": "code",
   "execution_count": null,
   "metadata": {},
   "outputs": [],
   "source": []
  },
  {
   "cell_type": "markdown",
   "metadata": {},
   "source": [
    "#### 브랜드별 3개월 수익률 - barplot"
   ]
  },
  {
   "cell_type": "code",
   "execution_count": null,
   "metadata": {},
   "outputs": [],
   "source": []
  },
  {
   "cell_type": "markdown",
   "metadata": {},
   "source": [
    "#### 브랜드별 거래량 - barplot"
   ]
  },
  {
   "cell_type": "code",
   "execution_count": null,
   "metadata": {},
   "outputs": [],
   "source": []
  },
  {
   "cell_type": "markdown",
   "metadata": {},
   "source": [
    "## 해외 주식 ETF"
   ]
  },
  {
   "cell_type": "code",
   "execution_count": null,
   "metadata": {},
   "outputs": [],
   "source": [
    "# 유형이 \"해외 주식\"인 ETF만 가져옵니다.\n",
    "# oversea\n"
   ]
  },
  {
   "cell_type": "code",
   "execution_count": null,
   "metadata": {},
   "outputs": [],
   "source": [
    "# \"해외 주식\"ETF의 브랜드별 \"3개월수익률\"을 시각화 합니다.\n"
   ]
  },
  {
   "cell_type": "code",
   "execution_count": null,
   "metadata": {},
   "outputs": [],
   "source": [
    "# \"해외 주식\"ETF의 브랜드별 평균 \"3개월수익률\"을 hue=\"환헤지H\"로 시각화 합니다.\n"
   ]
  },
  {
   "cell_type": "code",
   "execution_count": null,
   "metadata": {},
   "outputs": [],
   "source": [
    "# \"해외 주식\"ETF의 브랜드별 평균 \"3개월수익률\"을 violinplot으로 시각화 합니다.\n"
   ]
  },
  {
   "cell_type": "code",
   "execution_count": null,
   "metadata": {},
   "outputs": [],
   "source": [
    "# 위에서 그린 그래프를 catplot을 통해 그리며  col=\"레버리지\", row=\"인버스\"로 시각화 합니다.\n"
   ]
  },
  {
   "cell_type": "markdown",
   "metadata": {},
   "source": [
    "\n",
    "## 상관분석\n",
    "\n",
    "상관 분석(相關 分析, Correlation analysis) 또는 '상관관계' 또는 '상관'은 확률론과 통계학에서 두 변수간에 어떤 선형적 또는 비선형적 관계를 갖고 있는지를 분석하는 방법이다. 두 변수는 서로 독립적인 관계이거나 상관된 관계일 수 있으며 이때 두 변수간의 관계의 강도를 상관관계(Correlation, Correlation coefficient)라 한다. 상관분석에서는 상관관계의 정도를 나타내는 단위로 모상관계수로 ρ를 사용하며 표본 상관 계수로 r 을 사용한다.\n",
    "\n",
    "상관관계의 정도를 파악하는 상관 계수(相關係數, Correlation coefficient)는 두 변수간의 연관된 정도를 나타낼 뿐 인과관계를 설명하는 것은 아니다. 두 변수간에 원인과 결과의 인과관계가 있는지에 대한 것은 회귀분석을 통해 인과관계의 방향, 정도와 수학적 모델을 확인해 볼 수 있다.\n",
    "\n",
    "* 출처 : https://ko.wikipedia.org/wiki/%EC%83%81%EA%B4%80_%EB%B6%84%EC%84%9D\n",
    "\n",
    "### 피어슨 상관계수\n",
    "\n",
    "* r 값은 X 와 Y 가 완전히 동일하면 +1, 전혀 다르면 0, 반대방향으로 완전히 동일 하면 –1 을 가진다. \n",
    "* 결정계수(coefficient of determination)는 r^2 로 계산하며 이것은 X 로부터 Y 를 예측할 수 있는 정도를 의미한다.\n",
    "\n",
    "<img src=\"https://upload.wikimedia.org/wikipedia/commons/thumb/d/d4/Correlation_examples2.svg/800px-Correlation_examples2.svg.png\" width=\"500\">\n",
    "\n",
    "```\n",
    "일반적으로\n",
    "r이 -1.0과 -0.7 사이이면, 강한 음적 선형관계,\n",
    "r이 -0.7과 -0.3 사이이면, 뚜렷한 음적 선형관계,\n",
    "r이 -0.3과 -0.1 사이이면, 약한 음적 선형관계,\n",
    "r이 -0.1과 +0.1 사이이면, 거의 무시될 수 있는 선형관계,\n",
    "r이 +0.1과 +0.3 사이이면, 약한 양적 선형관계,\n",
    "r이 +0.3과 +0.7 사이이면, 뚜렷한 양적 선형관계,\n",
    "r이 +0.7과 +1.0 사이이면, 강한 양적 선형관계\n",
    "```\n",
    "\n",
    "<img src=\"https://upload.wikimedia.org/wikipedia/commons/3/34/Correlation_coefficient.png\" width=500>\n",
    "\n",
    "* 출처 :  https://ko.wikipedia.org/wiki/%EC%83%81%EA%B4%80_%EB%B6%84%EC%84%9D#%ED%94%BC%EC%96%B4%EC%8A%A8_%EC%83%81%EA%B4%80_%EA%B3%84%EC%88%98\n",
    "\n",
    "\n",
    "\n",
    "### 상관계수 구하기"
   ]
  },
  {
   "cell_type": "code",
   "execution_count": null,
   "metadata": {
    "id": "golSpsCvBYkt"
   },
   "outputs": [],
   "source": [
    "# 전체 데이터프레임에 대한 상관계수를 구합니다.\n",
    "# corr\n"
   ]
  },
  {
   "cell_type": "code",
   "execution_count": null,
   "metadata": {
    "id": "CLqJvMYSBYkt"
   },
   "outputs": [],
   "source": [
    "# np.triu : matrix를 상삼각행렬로 만드는 numpy math\n",
    "# [1 2 3]   np.triu  [1 2 3]\n",
    "# [4 5 6]   -------> [0 5 6]\n",
    "# [2 3 4]            [0 0 4]\n",
    "# np.ones_like(x) : x와 크기만 같은 1로 이루어진 array를 만듬\n",
    "\n",
    "# 수식적으로 어려워 보일수도 있지만 간단함\n",
    "# 자기상관계수는 대각행렬을 기준으로 대칭되어 같은 값이 출력되므로,\n",
    "# 이대로 전체를 heatmap을 plot하면 오히려 가독성이 떨어질 수 있음\n",
    "# 이에, 가독성을 높이기 위해 대각행렬 기준으로 한쪽의 데이터들만 masking 기법을 통해 plot하여 \n",
    "# 가독성을 높이는 효과를 가질수 있음\n",
    "# np.ones_like로 heatmap의 마스크값 구하기\n",
    "mask = np.triu(np.ones_like(corr))"
   ]
  },
  {
   "cell_type": "code",
   "execution_count": null,
   "metadata": {
    "id": "fiIkXLilBYkt"
   },
   "outputs": [],
   "source": [
    "# seaborn 의 heatmap으로 상관 계수 시각화 하기\n"
   ]
  },
  {
   "cell_type": "markdown",
   "metadata": {},
   "source": [
    "### 양 혹은 음의 상관 계수가 높은 변수끼리의 regplot 그리기"
   ]
  },
  {
   "cell_type": "code",
   "execution_count": null,
   "metadata": {},
   "outputs": [],
   "source": [
    "# regplot을 통해 양의 상관 계수가 높은 변수끼리 시각화 합니다.\n"
   ]
  },
  {
   "cell_type": "code",
   "execution_count": null,
   "metadata": {},
   "outputs": [],
   "source": [
    "# regplot을 통해 음의 상관 계수가 높은 변수끼리 시각화 합니다.\n"
   ]
  },
  {
   "cell_type": "markdown",
   "metadata": {},
   "source": [
    "### 종목별 상관 계수"
   ]
  },
  {
   "cell_type": "code",
   "execution_count": null,
   "metadata": {},
   "outputs": [],
   "source": [
    "# select_dtypes 를 통해 object 타입을 제외한 타입을 제외하고 가져오록 합니다.\n",
    "# 종목명을 인덱스로 만들어 줍니다.\n",
    "# df_num\n"
   ]
  },
  {
   "cell_type": "code",
   "execution_count": null,
   "metadata": {
    "id": "2PTbNOwWBYkt",
    "scrolled": true
   },
   "outputs": [],
   "source": [
    "# transpose 로 행과 열을 바꿉니다.\n",
    "# df_t"
   ]
  },
  {
   "cell_type": "code",
   "execution_count": null,
   "metadata": {},
   "outputs": [],
   "source": [
    "# df_t의 데이터 타입을 float 으로 변경하고 상관 계수 구하기\n",
    "# etf_corr"
   ]
  },
  {
   "cell_type": "markdown",
   "metadata": {},
   "source": [
    "* \"KODEX 200\" 과 상관계수가 높은 ETF 상위 10개"
   ]
  },
  {
   "cell_type": "code",
   "execution_count": null,
   "metadata": {},
   "outputs": [],
   "source": [
    "# \"KODEX 200\" 과 상관계수가 높은 ETF 상위 10개\n"
   ]
  },
  {
   "cell_type": "markdown",
   "metadata": {},
   "source": [
    "* \"KODEX 200\" 과 상관계수가 낮은 ETF 하위 10개"
   ]
  },
  {
   "cell_type": "code",
   "execution_count": null,
   "metadata": {},
   "outputs": [],
   "source": [
    "# \"KODEX 200\" 과 상관계수가 낮은 ETF 하위 10개\n"
   ]
  },
  {
   "cell_type": "markdown",
   "metadata": {},
   "source": [
    "### 2X ETF의 상관계수"
   ]
  },
  {
   "cell_type": "code",
   "execution_count": null,
   "metadata": {},
   "outputs": [],
   "source": [
    "# 2X가 들어가는 ETF의 상관 계수만 가져오기\n",
    "# etf_corr_2x\n"
   ]
  },
  {
   "cell_type": "code",
   "execution_count": null,
   "metadata": {},
   "outputs": [],
   "source": [
    "# np.ones_like로 heatmap의 마스크값 구하기\n",
    "# mask_2x\n"
   ]
  },
  {
   "cell_type": "code",
   "execution_count": null,
   "metadata": {},
   "outputs": [],
   "source": [
    "# seaborn 의 heatmap으로 상관 계수 시각화 하기\n"
   ]
  },
  {
   "cell_type": "markdown",
   "metadata": {},
   "source": [
    "### 원유와 관련된 ETF의 상관계수 보기"
   ]
  },
  {
   "cell_type": "code",
   "execution_count": null,
   "metadata": {},
   "outputs": [],
   "source": [
    "# 원유가 들어가는 상관계수만 가져오기\n",
    "# etf_corr_oil"
   ]
  },
  {
   "cell_type": "code",
   "execution_count": null,
   "metadata": {},
   "outputs": [],
   "source": [
    "# np.ones_like로 heatmap의 마스크값 구하기\n",
    "# mask_oil"
   ]
  },
  {
   "cell_type": "code",
   "execution_count": null,
   "metadata": {
    "scrolled": false
   },
   "outputs": [],
   "source": [
    "# seaborn 의 heatmap으로 상관 계수 시각화 하기\n"
   ]
  },
  {
   "cell_type": "markdown",
   "metadata": {},
   "source": [
    "## seaborn 공식문서"
   ]
  },
  {
   "cell_type": "markdown",
   "metadata": {},
   "source": [
    "* seaborn 에 대해 좀 더 알고 싶다면 다음의 튜토리얼을 참고해 보세요.\n",
    "* [User guide and tutorial — seaborn documentation](https://seaborn.pydata.org/tutorial.html)"
   ]
  },
  {
   "cell_type": "code",
   "execution_count": null,
   "metadata": {},
   "outputs": [],
   "source": []
  },
  {
   "cell_type": "code",
   "execution_count": null,
   "metadata": {},
   "outputs": [],
   "source": []
  },
  {
   "cell_type": "code",
   "execution_count": null,
   "metadata": {},
   "outputs": [],
   "source": []
  }
 ],
 "metadata": {
  "colab": {
   "collapsed_sections": [],
   "name": "8. naver-etf-eda.ipynb",
   "provenance": [],
   "toc_visible": true
  },
  "kernelspec": {
   "display_name": "Python 3",
   "language": "python",
   "name": "python3"
  },
  "language_info": {
   "codemirror_mode": {
    "name": "ipython",
    "version": 3
   },
   "file_extension": ".py",
   "mimetype": "text/x-python",
   "name": "python",
   "nbconvert_exporter": "python",
   "pygments_lexer": "ipython3",
   "version": "3.7.6"
  },
  "toc": {
   "base_numbering": 1,
   "nav_menu": {},
   "number_sections": true,
   "sideBar": true,
   "skip_h1_title": false,
   "title_cell": "Table of Contents",
   "title_sidebar": "Contents",
   "toc_cell": false,
   "toc_position": {
    "height": "calc(100% - 180px)",
    "left": "10px",
    "top": "150px",
    "width": "199px"
   },
   "toc_section_display": true,
   "toc_window_display": true
  },
  "varInspector": {
   "cols": {
    "lenName": 16,
    "lenType": 16,
    "lenVar": 40
   },
   "kernels_config": {
    "python": {
     "delete_cmd_postfix": "",
     "delete_cmd_prefix": "del ",
     "library": "var_list.py",
     "varRefreshCmd": "print(var_dic_list())"
    },
    "r": {
     "delete_cmd_postfix": ") ",
     "delete_cmd_prefix": "rm(",
     "library": "var_list.r",
     "varRefreshCmd": "cat(var_dic_list()) "
    }
   },
   "types_to_exclude": [
    "module",
    "function",
    "builtin_function_or_method",
    "instance",
    "_Feature"
   ],
   "window_display": false
  }
 },
 "nbformat": 4,
 "nbformat_minor": 1
}
